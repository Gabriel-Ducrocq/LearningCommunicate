{
 "cells": [
  {
   "cell_type": "code",
   "execution_count": 34,
   "metadata": {
    "collapsed": false
   },
   "outputs": [],
   "source": [
    "from selenium import webdriver\n",
    "from selenium.webdriver.support.ui import Select\n",
    "from bs4 import BeautifulSoup as bs\n",
    "import pandas as pd\n",
    "import time"
   ]
  },
  {
   "cell_type": "code",
   "execution_count": 35,
   "metadata": {
    "collapsed": false
   },
   "outputs": [],
   "source": [
    "url = 'http://csbl.bmb.uga.edu/DOOR/search.php?keyword=Pseudomonas+aeruginosa'\n",
    "driver = webdriver.Firefox(executable_path='/Users/gabrielducrocq/Downloads/geckodriver')\n",
    "driver.get(url)\n",
    "select = Select(driver.find_element_by_name('DataTables_Table_0_length')) \n",
    "select.select_by_value('-1')\n",
    "time.sleep(60)\n",
    "html_source = driver.page_source "
   ]
  },
  {
   "cell_type": "code",
   "execution_count": 36,
   "metadata": {
    "collapsed": false
   },
   "outputs": [],
   "source": [
    "driver.close()"
   ]
  },
  {
   "cell_type": "code",
   "execution_count": 37,
   "metadata": {
    "collapsed": false
   },
   "outputs": [
    {
     "name": "stderr",
     "output_type": "stream",
     "text": [
      "/Users/gabrielducrocq/anaconda/lib/python3.5/site-packages/bs4/__init__.py:181: UserWarning: No parser was explicitly specified, so I'm using the best available HTML parser for this system (\"lxml\"). This usually isn't a problem, but if you run this code on another system, or in a different virtual environment, it may use a different parser and behave differently.\n",
      "\n",
      "The code that caused this warning is on line 184 of the file /Users/gabrielducrocq/anaconda/lib/python3.5/runpy.py. To get rid of this warning, change code that looks like this:\n",
      "\n",
      " BeautifulSoup(YOUR_MARKUP})\n",
      "\n",
      "to this:\n",
      "\n",
      " BeautifulSoup(YOUR_MARKUP, \"lxml\")\n",
      "\n",
      "  markup_type=markup_type))\n"
     ]
    }
   ],
   "source": [
    "soup = bs(html_source)"
   ]
  },
  {
   "cell_type": "code",
   "execution_count": 39,
   "metadata": {
    "collapsed": false
   },
   "outputs": [],
   "source": [
    "entries = soup.find_all(\"table\")[0].find_all(\"tbody\")[1].find_all(\"tr\")"
   ]
  },
  {
   "cell_type": "code",
   "execution_count": 41,
   "metadata": {
    "collapsed": false
   },
   "outputs": [],
   "source": [
    "cels = [entrie.find_all(\"td\") for entrie in entries]"
   ]
  },
  {
   "cell_type": "code",
   "execution_count": 43,
   "metadata": {
    "collapsed": false
   },
   "outputs": [
    {
     "data": {
      "text/plain": [
       "[<td class=\"\"><a href=\"operon.php?id=12029\">12029</a></td>,\n",
       " <td class=\"\"><span class=\"highlight\">Pseudomonas</span> <span class=\"highlight\">aeruginosa</span> PAO1 : NC_002516</td>,\n",
       " <td class=\"\">4</td>,\n",
       " <td class=\"\">PA0001; PA0002; PA0003; PA0004</td>,\n",
       " <td class=\"\">dnaA; dnaN; recF; gyrB</td>,\n",
       " <td class=\"\">chromosomal replication initiation protein; DNA polymerase III subunit beta; recombination protein F; DNA gyrase subunit B</td>]"
      ]
     },
     "execution_count": 43,
     "metadata": {},
     "output_type": "execute_result"
    }
   ],
   "source": [
    "cels[0]"
   ]
  },
  {
   "cell_type": "code",
   "execution_count": 76,
   "metadata": {
    "collapsed": false
   },
   "outputs": [],
   "source": [
    "ids = [cel[0].find(\"a\").get_text().strip() for cel in cels]\n",
    "num_operons = [int(cel[2].get_text()) for cel in cels]\n",
    "genes = [cel[3].get_text().strip() for cel in cels]"
   ]
  },
  {
   "cell_type": "code",
   "execution_count": 84,
   "metadata": {
    "collapsed": false
   },
   "outputs": [],
   "source": [
    "df = pd.DataFrame({\"Id\":ids, \"Nb_Operons\":num_operons, \"Genes\":genes})"
   ]
  },
  {
   "cell_type": "code",
   "execution_count": 85,
   "metadata": {
    "collapsed": false
   },
   "outputs": [],
   "source": [
    "df[\"Genes\"] = df.Genes.apply(lambda x: [a.strip() for a in x.split(\";\")])"
   ]
  },
  {
   "cell_type": "code",
   "execution_count": 87,
   "metadata": {
    "collapsed": false
   },
   "outputs": [],
   "source": [
    "df.to_csv(\"Operons.csv\")"
   ]
  },
  {
   "cell_type": "code",
   "execution_count": 86,
   "metadata": {
    "collapsed": false
   },
   "outputs": [
    {
     "data": {
      "text/plain": [
       "0                         [PA0001, PA0002, PA0003, PA0004]\n",
       "1                                         [PA0005, PA0006]\n",
       "2                                         [PA0008, PA0009]\n",
       "3                                 [PA0016, PA0017, PA0018]\n",
       "4                                         [PA0021, PA0022]\n",
       "5                                         [PA0024, PA0025]\n",
       "6                                 [PA0026, PA0027, PA0028]\n",
       "7                                 [PA0029, PA0030, PA0031]\n",
       "8                                         [PA0033, PA0034]\n",
       "9                                         [PA0035, PA0036]\n",
       "10                                        [PA0040, PA0041]\n",
       "11                                        [PA0045, PA0046]\n",
       "12                                [PA0054, PA0055, PA0056]\n",
       "13                                        [PA0061, PA0062]\n",
       "14                                [PA0064, PA0065, PA0066]\n",
       "15                                        [PA0067, PA0068]\n",
       "16       [PA0070, PA0071, PA0072, PA0073, PA0074, PA007...\n",
       "17                        [PA0078, PA0079, PA0080, PA0081]\n",
       "18                                [PA0082, PA0083, PA0084]\n",
       "19        [PA0086, PA0087, PA0088, PA0089, PA0090, PA0091]\n",
       "20                                [PA0092, PA0093, PA0094]\n",
       "21       [PA0095, PA0096, PA0097, PA0098, PA0099, PA010...\n",
       "22                        [PA0105, PA0106, PA0107, PA0108]\n",
       "23                                        [PA0110, PA0111]\n",
       "24                                [PA0112, PA0113, PA0114]\n",
       "25                                        [PA0117, PA0118]\n",
       "26                                        [PA0119, PA0120]\n",
       "27                                        [PA0124, PA0125]\n",
       "28                                        [PA0131, PA0132]\n",
       "29                                [PA0136, PA0137, PA0138]\n",
       "                               ...                        \n",
       "24147                                       [PADK2_t29683]\n",
       "24148                                       [PADK2_r29727]\n",
       "24149                                       [PADK2_r29743]\n",
       "24150                                       [PADK2_t29685]\n",
       "24151                                       [PADK2_t29687]\n",
       "24152                                       [PADK2_r29735]\n",
       "24153                                       [PADK2_t29689]\n",
       "24154                                       [PADK2_t29691]\n",
       "24155                                       [PADK2_t29693]\n",
       "24156                                       [PADK2_t29695]\n",
       "24157                                       [PADK2_t29697]\n",
       "24158                                       [PADK2_t29699]\n",
       "24159                                       [PADK2_t29701]\n",
       "24160                                       [PADK2_r29729]\n",
       "24161                                       [PADK2_r29745]\n",
       "24162                                       [PADK2_t29703]\n",
       "24163                                       [PADK2_t29705]\n",
       "24164                                       [PADK2_r29737]\n",
       "24165                                       [PADK2_t29707]\n",
       "24166                                       [PADK2_t29709]\n",
       "24167                                       [PADK2_t29711]\n",
       "24168                                       [PADK2_t29713]\n",
       "24169                                       [PADK2_t29715]\n",
       "24170                                       [PADK2_t29717]\n",
       "24171                                       [PADK2_t29719]\n",
       "24172                                       [PADK2_r29731]\n",
       "24173                                       [PADK2_r29747]\n",
       "24174                                       [PADK2_t29721]\n",
       "24175                                       [PADK2_t29723]\n",
       "24176                                       [PADK2_r29739]\n",
       "Name: Genes, dtype: object"
      ]
     },
     "execution_count": 86,
     "metadata": {},
     "output_type": "execute_result"
    }
   ],
   "source": [
    "df[\"Genes\"]"
   ]
  },
  {
   "cell_type": "code",
   "execution_count": null,
   "metadata": {
    "collapsed": true
   },
   "outputs": [],
   "source": []
  },
  {
   "cell_type": "code",
   "execution_count": null,
   "metadata": {
    "collapsed": true
   },
   "outputs": [],
   "source": []
  },
  {
   "cell_type": "code",
   "execution_count": null,
   "metadata": {
    "collapsed": true
   },
   "outputs": [],
   "source": []
  },
  {
   "cell_type": "code",
   "execution_count": null,
   "metadata": {
    "collapsed": true
   },
   "outputs": [],
   "source": []
  },
  {
   "cell_type": "markdown",
   "metadata": {},
   "source": [
    "# Learning Com"
   ]
  },
  {
   "cell_type": "code",
   "execution_count": 91,
   "metadata": {
    "collapsed": true
   },
   "outputs": [],
   "source": [
    "import numpy as np"
   ]
  },
  {
   "cell_type": "code",
   "execution_count": 128,
   "metadata": {
    "collapsed": false
   },
   "outputs": [],
   "source": [
    "class Agent:\n",
    "    \n",
    "    def __init__(self, pos, v, gaze, col, mem_bank = [0, 0], goals = [0, 0, 1]):\n",
    "        self.golas = goals\n",
    "        \n",
    "        self.x_pos = pos[0]\n",
    "        self.y_pos = pos[0]\n",
    "        \n",
    "        self.x_velocity = v[0]\n",
    "        self.y_velocity = v[1]\n",
    "        \n",
    "        self.x_gaze = gaze[0]\n",
    "        self.y_gaze = gaze[1]\n",
    "        \n",
    "        self.memory = mem_bank\n",
    "        self.goals = goals\n",
    "        self.col = col\n",
    "        \n",
    "    def get_position(self):\n",
    "        return (self.x_pos, self.y_pos)\n",
    "    \n",
    "    def get_velocity(self):\n",
    "        return (self.x_velocity, self.y_velocity)\n",
    "    \n",
    "    def get_gaze(self):\n",
    "        return (self.x_gaze, self.y_gaze)\n",
    "    \n",
    "    def get_memory(self):\n",
    "        return self.memory\n",
    "\n",
    "    def get_goals(self):\n",
    "        return self.goals\n",
    "    \n",
    "    def get_color(self):\n",
    "        return self.col\n",
    "    \n",
    "    def get_phys_state(self):\n",
    "        return (self.get_position(), self.get_velocity(), self.get_gaze(), self.get_col)\n",
    "    \n",
    "    def set_position(self, pos):\n",
    "        self.x_pos = pos[0]\n",
    "        self.y_pos = pos[1]\n",
    "      \n",
    "    def set_velocity(self, velocity):\n",
    "        self.x_velocity = velocity[0]\n",
    "        self.y_velocity = velocity[1]\n",
    "        \n",
    "    def set_gaze(self, gaze):\n",
    "        self.x_gaze = gaze[0]\n",
    "        self.y_gaze = gaze[1]\n",
    "            \n",
    "    def set_phys_state(self, pos, velocity, gaze):\n",
    "        self.set_position(pos)\n",
    "        self.set_velocity(velocity)\n",
    "        self.set_gaze(gaze)"
   ]
  },
  {
   "cell_type": "code",
   "execution_count": 131,
   "metadata": {
    "collapsed": true
   },
   "outputs": [],
   "source": [
    "class Environment:\n",
    "    \n",
    "    def __init__(self, nb_agent, borders = 1000, delta_t = 0.1, damping_coef = 0.5):\n",
    "        self.nb_agent= nb_agent\n",
    "        self.borders = borders\n",
    "        self.damping_coef = damping_coef\n",
    "        self.delta_t = delta_t\n",
    "        self.list_agents = []\n",
    "        for i in range(nb_agent):\n",
    "            pos = tuple(np.random.randint(0, self.borders, 2))\n",
    "            v = (0, 0)\n",
    "            gaze = tuple(np.random.randint(0, self.borders, 2))\n",
    "            col = np.random.randint(0, 255, 3)\n",
    "            ag = Agent(pos, v, gaze, col)\n",
    "            self.list_agents.append(ag)\n",
    "            \n",
    "    def get_agents(self):\n",
    "        return self.list_agents\n",
    "            \n",
    "        \n",
    "    def compute_new_pos(self, pos, velocity):\n",
    "        return pos + velocity*self.delta_t\n",
    "    \n",
    "    def compute_new_velocity(self, pos, u, ag_indexes):\n",
    "        return self.damping_coef*pos + u #COMPUTE THE FORCES !!\n",
    "    \n",
    "    def compute_new_phys_state(self, up, uv):\n",
    "        for i in range(self.nb_agents):\n",
    "            ag = self.list_agents[i]\n",
    "            old_pos = ag.get_position\n",
    "            old_velocity = ag.get_velocity\n",
    "            new_pos = self.compute_new_pos(old_pos, old_velocity)\n",
    "            new_velocity = self.compute_new_velocity(old_velocity, up[i], [k for k in range(self.nb_agent)])\n",
    "            \n",
    "            list_phys_states.append((new_pos, new_velocity, uv))\n",
    "        \n",
    "        return list_phys_states\n",
    "    \n",
    "    def set_new_phys_states(self, list_phys_states):\n",
    "        for i in range(self.nb_agents):\n",
    "            ag = self.list_agent[i]\n",
    "            pos, vel, gaze =list_phys_states[i]\n",
    "            ag.set_phys_state(pos, vel, gaze)\n",
    "            \n",
    "        \n",
    "    def take_step(self, up, uv):\n",
    "        list_phys_states = self.compute_new_phys_states(up, uv)\n",
    "        self.set_new_phys_states(list_phys_states)\n",
    "        \n",
    "            \n",
    "            \n",
    "            \n",
    "        "
   ]
  },
  {
   "cell_type": "code",
   "execution_count": 132,
   "metadata": {
    "collapsed": false
   },
   "outputs": [],
   "source": [
    "env = Environment(4)"
   ]
  },
  {
   "cell_type": "code",
   "execution_count": 125,
   "metadata": {
    "collapsed": false
   },
   "outputs": [
    {
     "data": {
      "text/plain": [
       "[1, 2, 3]"
      ]
     },
     "execution_count": 125,
     "metadata": {},
     "output_type": "execute_result"
    }
   ],
   "source": [
    "l"
   ]
  },
  {
   "cell_type": "code",
   "execution_count": 126,
   "metadata": {
    "collapsed": false
   },
   "outputs": [
    {
     "data": {
      "text/plain": [
       "[1, 3]"
      ]
     },
     "execution_count": 126,
     "metadata": {},
     "output_type": "execute_result"
    }
   ],
   "source": [
    "y"
   ]
  },
  {
   "cell_type": "code",
   "execution_count": 127,
   "metadata": {
    "collapsed": false
   },
   "outputs": [
    {
     "ename": "AttributeError",
     "evalue": "'range' object has no attribute 'remove'",
     "output_type": "error",
     "traceback": [
      "\u001b[0;31m---------------------------------------------------------------------------\u001b[0m",
      "\u001b[0;31mAttributeError\u001b[0m                            Traceback (most recent call last)",
      "\u001b[0;32m<ipython-input-127-e431850ffe7e>\u001b[0m in \u001b[0;36m<module>\u001b[0;34m()\u001b[0m\n\u001b[0;32m----> 1\u001b[0;31m \u001b[0mrange\u001b[0m\u001b[0;34m(\u001b[0m\u001b[0;36m3\u001b[0m\u001b[0;34m)\u001b[0m\u001b[0;34m.\u001b[0m\u001b[0mremove\u001b[0m\u001b[0;34m(\u001b[0m\u001b[0;36m2\u001b[0m\u001b[0;34m)\u001b[0m\u001b[0;34m\u001b[0m\u001b[0m\n\u001b[0m",
      "\u001b[0;31mAttributeError\u001b[0m: 'range' object has no attribute 'remove'"
     ]
    }
   ],
   "source": [
    "range(3).remove(2)"
   ]
  },
  {
   "cell_type": "code",
   "execution_count": null,
   "metadata": {
    "collapsed": true
   },
   "outputs": [],
   "source": []
  }
 ],
 "metadata": {
  "anaconda-cloud": {},
  "kernelspec": {
   "display_name": "Python 3",
   "language": "python",
   "name": "python3"
  },
  "language_info": {
   "codemirror_mode": {
    "name": "ipython",
    "version": 3
   },
   "file_extension": ".py",
   "mimetype": "text/x-python",
   "name": "python",
   "nbconvert_exporter": "python",
   "pygments_lexer": "ipython3",
   "version": "3.6.0"
  }
 },
 "nbformat": 4,
 "nbformat_minor": 0
}
