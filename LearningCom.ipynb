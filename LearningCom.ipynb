{
 "cells": [
  {
   "cell_type": "code",
   "execution_count": 75,
   "metadata": {
    "collapsed": false
   },
   "outputs": [
    {
     "name": "stdout",
     "output_type": "stream",
     "text": [
      "The autotime extension is already loaded. To reload it, use:\n",
      "  %reload_ext autotime\n",
      "time: 5.53 ms\n"
     ]
    }
   ],
   "source": [
    "import tensorflow as tf\n",
    "import numpy as np\n",
    "from bptt import BPTT\n",
    "import matplotlib.pyplot as plt\n",
    "%load_ext autotime\n",
    "%matplotlib inline "
   ]
  },
  {
   "cell_type": "code",
   "execution_count": 76,
   "metadata": {
    "collapsed": false
   },
   "outputs": [
    {
     "name": "stdout",
     "output_type": "stream",
     "text": [
      "time: 1.31 ms\n"
     ]
    }
   ],
   "source": [
    "tf.reset_default_graph()"
   ]
  },
  {
   "cell_type": "code",
   "execution_count": 77,
   "metadata": {
    "collapsed": false
   },
   "outputs": [
    {
     "name": "stdout",
     "output_type": "stream",
     "text": [
      "time: 66 ms\n"
     ]
    }
   ],
   "source": [
    "class PhysicalNet: \n",
    "    \n",
    "    def __init__(self, layer_sizes, input_size, first_input, output_size, keep_prob = 0.9, stddev = 0.001):\n",
    "        self.nb_layers = len(layer_sizes)\n",
    "        self.layer_sizes = layer_sizes\n",
    "        self.input_size = input_size\n",
    "        self.output_size = output_size\n",
    "        self.first_input = first_input\n",
    "        self.stddev = stddev\n",
    "        \n",
    "        self.Weights = []\n",
    "        self.Biases = []\n",
    "        self.intermediate_outputs = [self.first_input]\n",
    "        \n",
    "        self.init_weights()\n",
    "        self.init_biases()\n",
    "        self.define_inter_outputs()\n",
    "        \n",
    "    def init_weights(self):\n",
    "        for i in range(self.nb_layers):\n",
    "            if i == 0:\n",
    "                W = tf.Variable(tf.random_normal([self.layer_sizes[i], self.input_size], stddev = self.stddev))\n",
    "            elif i != (self.nb_layers - 1):\n",
    "                W = tf.Variable(tf.random_normal([self.layer_sizes[(i+1)], self.layer_sizes[i]], stddev = self.stddev))\n",
    "            else:\n",
    "                W = tf.Variable(tf.random_normal([self.output_size, self.layer_sizes[i]], stddev = self.stddev))\n",
    "                \n",
    "            self.Weights.append(W)\n",
    "            \n",
    "    def init_biases(self):\n",
    "        for i in range(self.nb_layers):\n",
    "            B = tf.Variable(tf.random_normal([self.layer_sizes[i], 1], stddev = self.stddev))\n",
    "            self.Biases.append(B)\n",
    "            \n",
    "    def define_inter_outputs(self): ## ADD THE DROPOUTS !!!\n",
    "        for i in range(self.nb_layers):\n",
    "            W = self.Weights[i]\n",
    "            b = self.Biases[i]\n",
    "            x = self.intermediate_outputs[i]\n",
    "            if i != (self.nb_layers - 1):\n",
    "                o = tf.nn.dropout(tf.nn.elu(tf.matmul(W, x) + b), keep_prob = 0.9)\n",
    "            else:\n",
    "                o = tf.nn.softmax(tf.matmul(W, x) + b)\n",
    "                \n",
    "            self.intermediate_outputs.append(o)\n",
    "            "
   ]
  },
  {
   "cell_type": "code",
   "execution_count": 78,
   "metadata": {
    "collapsed": false
   },
   "outputs": [
    {
     "name": "stdout",
     "output_type": "stream",
     "text": [
      "time: 73.4 ms\n"
     ]
    }
   ],
   "source": [
    "class CommunicationNet: ## ADD THE MEMORY !! \n",
    "    \n",
    "    def __init__(self, layer_sizes, input_size, first_input, memory, keep_prob = 0.9, memory_size = 32,\n",
    "                 stddev_epsilon = 0.35, output_size = 256, stddev = 0.0001):\n",
    "        self.nb_layers = len(layer_sizes)\n",
    "        self.layer_sizes = layer_sizes\n",
    "        self.input_size = input_size\n",
    "        self.memory_size = memory_size\n",
    "        self.stddev_epsilon = stddev_epsilon\n",
    "        self.output_size = output_size\n",
    "        self.first_input = first_input\n",
    "        self.stddev = stddev\n",
    "        \n",
    "        self.Weights = []\n",
    "        self.Biases = []\n",
    "        self.Weight_read_mem = tf.Variable(tf.random_normal([self.layer_sizes[(self.nb_layers-1)], self.memory_size]\n",
    "                                                            ,stddev = self.stddev))\n",
    "        self.intermediate_outputs = [first_input]\n",
    "        self.memory = memory\n",
    "        \n",
    "        self.init_weights()    \n",
    "        self.init_biases()\n",
    "        self.define_inter_outputs()\n",
    "        self.def_delta_mem()\n",
    "        \n",
    "        \n",
    "    def init_weights(self):\n",
    "        for i in range(self.nb_layers):\n",
    "            if i == 0:\n",
    "                W = tf.Variable(tf.random_normal([self.layer_sizes[i], self.input_size], stddev = self.stddev))\n",
    "            elif i != (self.nb_layers - 1):\n",
    "                W = tf.Variable(tf.random_normal([self.layer_sizes[(i+1)], self.layer_sizes[i]],stddev = self.stddev))\n",
    "            else:\n",
    "                W = tf.Variable(tf.random_normal([self.output_size, self.layer_sizes[i]],stddev = self.stddev))\n",
    "            self.Weights.append(W)\n",
    "            \n",
    "    def init_biases(self):\n",
    "        for i in range(self.nb_layers):\n",
    "            B = tf.Variable(tf.random_normal([self.layer_sizes[i], 1],stddev = self.stddev))\n",
    "            self.Biases.append(B)\n",
    "            \n",
    "    def define_inter_outputs(self): ## ADD THE DROPOUTS !!!\n",
    "        for i in range(self.nb_layers):\n",
    "            W = self.Weights[i]\n",
    "            b = self.Biases[i]\n",
    "            x = self.intermediate_outputs[i]\n",
    "            if i != (self.nb_layers - 1):\n",
    "                o = tf.nn.dropout(tf.nn.elu(tf.matmul(W, x) + b), keep_prob = 0.9)\n",
    "            else:\n",
    "                o = tf.nn.softmax(tf.matmul(W, x) + tf.matmul(self.Weight_read_mem, self.memory) + b)\n",
    "                \n",
    "            self.intermediate_outputs.append(o)\n",
    "        \n",
    "    def def_delta_mem(self):\n",
    "        self.W_mem = tf.Variable(tf.random_normal(shape =[self.memory_size,self.output_size],stddev = self.stddev))\n",
    "        self.b_mem = tf.Variable(tf.random_normal(shape = [self.memory_size, 1],stddev = self.stddev))\n",
    "        self.output_mem = tf.add(tf.matmul(self.W_mem, self.intermediate_outputs[-1]),self.b_mem)\n",
    "        "
   ]
  },
  {
   "cell_type": "code",
   "execution_count": 79,
   "metadata": {
    "collapsed": false
   },
   "outputs": [
    {
     "name": "stdout",
     "output_type": "stream",
     "text": [
      "time: 93.4 ms\n"
     ]
    }
   ],
   "source": [
    "class LastNet: ## ADD THE MEMORY !! The memory initialization is random ==> set it 0\n",
    "    \n",
    "    def __init__(self, layer_sizes, input_size, first_input, memory, keep_prob = 0.9, memory_size = 32, \n",
    "                 stddev_epsilon = 0.35, output_size = 24, stddev = 0.0001):\n",
    "        self.nb_layers = len(layer_sizes)\n",
    "        self.layer_sizes = layer_sizes\n",
    "        self.input_size = input_size\n",
    "        self.memory_size = memory_size\n",
    "        self.stddev_epsilon = stddev_epsilon\n",
    "        self.output_size = output_size\n",
    "        self.first_input = first_input\n",
    "        self.stddev = stddev\n",
    "        \n",
    "        self.Weights = []\n",
    "        self.Biases = []\n",
    "        self.Weight_read_mem = tf.Variable(tf.random_normal([self.output_size, self.memory_size],stddev = self.stddev))\n",
    "        self.intermediate_outputs = [self.first_input]\n",
    "        self.memory = memory\n",
    "        \n",
    "        self.init_weights()    \n",
    "        self.init_biases()\n",
    "        self.define_inter_outputs()\n",
    "        self.def_delta_mem()\n",
    "        \n",
    "        \n",
    "    def init_weights(self):\n",
    "        for i in range(self.nb_layers):\n",
    "            if i == 0:\n",
    "                W = tf.Variable(tf.random_normal([self.layer_sizes[i], self.input_size],stddev = self.stddev))\n",
    "            elif i != (self.nb_layers - 1):\n",
    "                W = tf.Variable(tf.random_normal([self.layer_sizes[(i+1)], self.layer_sizes[i]],stddev = self.stddev))\n",
    "            else:\n",
    "                W = tf.Variable(tf.random_normal([self.output_size, self.layer_sizes[i]],stddev = self.stddev))\n",
    "            self.Weights.append(W)\n",
    "            \n",
    "    def init_biases(self):\n",
    "        for i in range(self.nb_layers):\n",
    "            if i != (self.nb_layers - 1):\n",
    "                B = tf.Variable(tf.random_normal([self.layer_sizes[i+1], 1],stddev = self.stddev))\n",
    "            else:\n",
    "                B = tf.Variable(tf.random_normal([self.output_size, 1], stddev = self.stddev))\n",
    "                \n",
    "            self.Biases.append(B)\n",
    "            \n",
    "    def define_inter_outputs(self): ## ADD THE DROPOUTS !!! REMOVE THE SOFTMAX OF THE LAST LAYER !!!\n",
    "        for i in range(self.nb_layers):\n",
    "            W = self.Weights[i]\n",
    "            b = self.Biases[i]\n",
    "            x = self.intermediate_outputs[i]\n",
    "            if i != (self.nb_layers - 1):\n",
    "                o = tf.nn.dropout(tf.nn.elu(tf.matmul(W, x) + b), keep_prob = 0.9)\n",
    "            else:\n",
    "                o = tf.matmul(W, x) + tf.matmul(self.Weight_read_mem, self.memory) + b\n",
    "                \n",
    "            self.intermediate_outputs.append(o)\n",
    "        \n",
    "    def def_delta_mem(self):\n",
    "        self.W_mem = tf.Variable(tf.random_normal(shape =[self.memory_size,self.output_size],stddev = self.stddev))\n",
    "        self.b_mem = tf.Variable(tf.random_normal(shape = [self.memory_size, 1],stddev = self.stddev))\n",
    "        self.output_mem = tf.add(tf.matmul(self.W_mem, self.intermediate_outputs[-1]),self.b_mem)\n",
    "        \n",
    "    def get_output(self):\n",
    "        return self.intermediate_outputs[-1]\n",
    "        "
   ]
  },
  {
   "cell_type": "code",
   "execution_count": 80,
   "metadata": {
    "collapsed": false
   },
   "outputs": [
    {
     "name": "stdout",
     "output_type": "stream",
     "text": [
      "time: 54.9 ms\n"
     ]
    }
   ],
   "source": [
    "class Policy_Phys:\n",
    "    \n",
    "    def __init__(self, nb_agent, nb_landmark, list_phys_tensors, hidden_layer_size = 256, env_dim = 2, \n",
    "                 batch_size = 1024, stddev_phys_output = 0.0001):\n",
    "        self.stddev_phys_output = stddev_phys_output\n",
    "        self.batch_size = batch_size\n",
    "        self.env_dim = env_dim\n",
    "        self.nb_agent = nb_agent\n",
    "        self.nb_landmark = nb_landmark\n",
    "        self.hidden_layer_size = hidden_layer_size\n",
    "\n",
    "        self.phys_tensors = list_phys_tensors\n",
    "        self.networks_phys = []\n",
    "        self.PhiX = None\n",
    "        \n",
    "        self.init_all()\n",
    "        \n",
    "    def init_phys_modules(self):\n",
    "        with tf.variable_scope(\"physical\") as scope:\n",
    "            self.networks_phys.append(PhysicalNet([self.hidden_layer_size, self.hidden_layer_size], self.env_dim, \n",
    "                                                  self.phys_tensors[0],\n",
    "                                                 self.hidden_layer_size))\n",
    "        for i in range(1, (self.nb_agent + self.nb_landmark)):\n",
    "            with tf.variable_scope(\"physical\", reuse = True):\n",
    "                self.networks_phys.append(PhysicalNet([self.hidden_layer_size, self.hidden_layer_size], self.env_dim,\n",
    "                                                      self.phys_tensors[i],\n",
    "                                                     self.hidden_layer_size))\n",
    "\n",
    "    def init_PhiX(self):\n",
    "        list_outputs = []\n",
    "        for net in self.networks_phys:\n",
    "            list_outputs.append(tf.reshape(net.intermediate_outputs[-1], [256, -1, 1]))\n",
    "\n",
    "        all_phys_output = tf.concat(list_outputs, axis = 2)\n",
    "        self.PhiX = tf.reduce_max(tf.nn.softmax(all_phys_output, dim = -1), axis = 2)\n",
    "\n",
    "    def init_all(self):\n",
    "        self.init_phys_modules()\n",
    "        self.init_PhiX()\n",
    "\n",
    "\n",
    "\n",
    "\n",
    "\n"
   ]
  },
  {
   "cell_type": "code",
   "execution_count": 81,
   "metadata": {
    "collapsed": false
   },
   "outputs": [
    {
     "name": "stdout",
     "output_type": "stream",
     "text": [
      "time: 67.9 ms\n"
     ]
    }
   ],
   "source": [
    "class Policy_Utterance:\n",
    "    \n",
    "    def __init__(self, nb_agent, list_utter_tensors, list_mem_tensors, goal_size, vocabulary_size = 20, \n",
    "                 hidden_layer_size = 256, memory_size = 32, temperature = 1, batch_size = 1024,\n",
    "                 stddev_phys_output = 0.0001):\n",
    "        self.size_goal = goal_size\n",
    "        self.nb_agent = nb_agent\n",
    "        self.stddev_phys_output = stddev_phys_output\n",
    "        self.batch_size = batch_size\n",
    "        self.temperature = temperature\n",
    "        self.memory_size = memory_size\n",
    "        self.vocabulary_size = vocabulary_size\n",
    "        self.hidden_layer_size = hidden_layer_size\n",
    "        self.goal = tf.placeholder(tf.float32, [self.size_goal, None])\n",
    "        self.memory_last = tf.placeholder(tf.float32, [self.memory_size, None])\n",
    "        \n",
    "        self.com_tensors = list_utter_tensors\n",
    "        self.mem_tensors = list_mem_tensors\n",
    "        self.delta_mem = []\n",
    "        self.networks_com = []\n",
    "\n",
    "        self.PhiC = None\n",
    "        self.init_all()\n",
    "        \n",
    "\n",
    "    def init_com_modules(self):## Les poids seront les mêmes pour tous les agents\n",
    "        with tf.variable_scope(\"communication\") as scope:\n",
    "            self.networks_com.append(CommunicationNet([self.hidden_layer_size, self.hidden_layer_size], \n",
    "                                                 self.vocabulary_size, self.com_tensors[0], \n",
    "                                                      self.mem_tensors[0]))\n",
    "        for i in range(1, self.nb_agent):\n",
    "            with tf.variable_scope(\"communication\", reuse=True):\n",
    "                self.networks_com.append(CommunicationNet([self.hidden_layer_size, self.hidden_layer_size], \n",
    "                                                 self.vocabulary_size,self.com_tensors[i],\n",
    "                                                          self.mem_tensors[i]))\n",
    "\n",
    "    def init_delta_mem_tensors(self):\n",
    "        for i in range(self.nb_agent):\n",
    "            self.delta_mem.append(self.networks_com[i].output_mem)\n",
    "            \n",
    "    def init_PhiC(self):\n",
    "        list_outputs = []\n",
    "        for net in self.networks_com:\n",
    "            list_outputs.append(tf.reshape(net.intermediate_outputs[-1], [256, -1, 1]))\n",
    "\n",
    "        all_comm_output = tf.concat(list_outputs, axis = 2)\n",
    "        self.PhiC = tf.reduce_max(tf.nn.softmax(all_comm_output, dim = -1), axis = 2) \n",
    "\n",
    "    def init_all(self):\n",
    "        self.init_com_modules()\n",
    "        self.init_delta_mem_tensors()\n",
    "        self.init_PhiC()\n"
   ]
  },
  {
   "cell_type": "code",
   "execution_count": 82,
   "metadata": {
    "collapsed": false
   },
   "outputs": [
    {
     "name": "stdout",
     "output_type": "stream",
     "text": [
      "time: 91.3 ms\n"
     ]
    }
   ],
   "source": [
    "class Policy_Last:\n",
    "    \n",
    "    def __init__(self, PhiX, PhiC, goal, memory, hidden_layer_size = 256, \n",
    "                 size_goal = 8, memory_size = 32, batch_size = 1024, stddev_phys_output = 0.0001, vocabulary_size = 20,\n",
    "                env_dim = 2, temperature = 1):\n",
    "        self.temperature = temperature\n",
    "        self.stddev_phys_output = stddev_phys_output\n",
    "        self.env_dim = env_dim\n",
    "        self.vocabulary_size = vocabulary_size \n",
    "        self.batch_size = batch_size\n",
    "        self.memory_size = memory_size\n",
    "        self.hidden_layer_size = hidden_layer_size\n",
    "        self.size_goal = size_goal\n",
    "        self.goal = goal\n",
    "        self.memory_last = memory\n",
    "        self.Phi = None \n",
    "        self.PhiX = PhiX\n",
    "        self.PhiC = PhiC \n",
    "        self.delta_mem = []\n",
    "        self.init_all()\n",
    "\n",
    "    def init_Phi(self):\n",
    "        self.Phi = tf.concat([self.PhiC, self.goal, self.PhiX], axis = 0)\n",
    "\n",
    "    def init_last_module(self):\n",
    "        inp_size = (2*self.hidden_layer_size + self.size_goal)\n",
    "        out_size = self.vocabulary_size + 2*self.env_dim\n",
    "        self.last_net = LastNet([256, 256], inp_size, self.Phi, self.memory_last, output_size = out_size)\n",
    "        \n",
    "    def init_output(self):\n",
    "        self.output = self.last_net.get_output()\n",
    "\n",
    "    def init_all(self):\n",
    "        self.init_Phi()\n",
    "        self.init_last_module()\n",
    "        self.init_output()\n",
    "        self.init_sample_utterances()\n",
    "        self.init_sample_phys()\n",
    "        self.init_delta_mem_tensors()\n",
    "\n",
    "    def init_sample_utterances(self):## Vérifier qu'on prend un bon slice sur l'output\n",
    "        u = -tf.log(-tf.log(tf.random_uniform(shape = [self.vocabulary_size, self.batch_size],dtype=tf.float32)))\n",
    "        utterance_output = tf.slice(self.output, [2*self.env_dim, 0], [self.vocabulary_size, self.batch_size])\n",
    "        gumbel = tf.exp((utterance_output + u)/self.temperature)\n",
    "        denoms = tf.reduce_sum(gumbel, axis = 0)\n",
    "        self.utterance = gumbel/denoms  \n",
    "        \n",
    "    def init_sample_phys(self):\n",
    "        u = tf.random_normal(shape = [2*self.env_dim, self.batch_size],dtype=tf.float32, stddev = self.stddev_phys_output)\n",
    "        self.output = tf.add(tf.slice(self.output, [0, 0], [2*self.env_dim, self.batch_size]), u)\n",
    "        self.sample_move = tf.slice(self.output, [0, 0], [self.env_dim, self.batch_size])\n",
    "        self.sample_gaze  = tf.slice(self.output, [self.env_dim, 0], [self.env_dim, self.batch_size])\n",
    "\n",
    "    def init_delta_mem_tensors(self):\n",
    "        self.delta_mem.append(self.last_net.output_mem)\n",
    "            \n",
    "    \n"
   ]
  },
  {
   "cell_type": "code",
   "execution_count": 83,
   "metadata": {
    "collapsed": false
   },
   "outputs": [
    {
     "name": "stdout",
     "output_type": "stream",
     "text": [
      "time: 83.5 ms\n"
     ]
    }
   ],
   "source": [
    "class Policy:# Two memories per Agent: one for the communication module, the other one for the last module. Is it correct ?\n",
    "\n",
    "    def __init__(self,nb_agent, nb_landmark, list_phys_tensors, list_utter_tensors, list_mem_tensors, \n",
    "                 list_mem_tensors_last, list_goal_tensors, goal_size, vocabulary_size = 20, hidden_layer_size = 256, \n",
    "                 memory_size = 32, temperature = 1, batch_size = 1024, stddev_phys_output = 0.01, env_dim = 2):\n",
    "        self.nb_agent = nb_agent\n",
    "        self.goal_size = goal_size\n",
    "        self.nb_landmark = nb_landmark\n",
    "        self.list_phys_tensors =  list_phys_tensors\n",
    "        self.list_utter_tensors = list_utter_tensors\n",
    "        self.list_mem_tensors = list_mem_tensors\n",
    "        self.list_goal_tensors = list_goal_tensors\n",
    "        \n",
    "        self.phys_module = Policy_Phys(self.nb_agent, self.nb_landmark, self.list_phys_tensors)\n",
    "        self.utterance_module = Policy_Utterance(self.nb_agent, self.list_utter_tensors, self.list_mem_tensors, \n",
    "                                                 self.goal_size)\n",
    "        \n",
    "        self.list_last_nets = []\n",
    "        self.list_utterance = []\n",
    "        self.list_move = []\n",
    "        self.list_gaze = []\n",
    "        \n",
    "        self.list_delta_mem_comm = self.utterance_module.delta_mem\n",
    "        self.list_delta_mem_last = []\n",
    "        self.list_outputs = []\n",
    "        \n",
    "        self.init_all()\n",
    "        \n",
    "    def init_last_nets(self):### KEEP THE SAME SCOPE IN ORDER TO SHARE THE WEIGHTS !\n",
    "        for i in range(self.nb_agent):\n",
    "            with tf.variable_scope(\"last_net\", reuse = (i!=0)):\n",
    "                self.list_last_nets.append(Policy_Last(self.phys_module.PhiX, self.utterance_module.PhiC, \n",
    "                                                   self.list_goal_tensors[i], self.list_mem_tensors[i]))\n",
    "            \n",
    "            \n",
    "    def init_output_list(self):\n",
    "        for i in range(self.nb_agent):\n",
    "            self.list_utterance.append(self.list_last_nets[i].utterance)\n",
    "            self.list_move.append(self.list_last_nets[i].sample_move)\n",
    "            self.list_gaze.append(self.list_last_nets[i].sample_gaze)\n",
    "            self.list_delta_mem_last.append(self.list_last_nets[i].delta_mem)\n",
    "            \n",
    "    def init_all(self):\n",
    "        self.init_last_nets()\n",
    "        self.init_output_list()\n",
    "            \n",
    "            \n",
    "    "
   ]
  },
  {
   "cell_type": "code",
   "execution_count": 96,
   "metadata": {
    "collapsed": false
   },
   "outputs": [
    {
     "name": "stdout",
     "output_type": "stream",
     "text": [
      "time: 326 ms\n"
     ]
    }
   ],
   "source": [
    "class Agent:\n",
    "    \n",
    "    def __init__(self, name, name_target, bp, pos, v, gaze, goal_location, goal_type, col,\n",
    "                 vocabulary_size = 20, batch_size = 1024, env_dim = 2, goal_size = 8, \n",
    "                 memory_size = 32, time_delta = 0.1, nb_actions = 3, damping_coeff = 0.5):\n",
    "        self.damping_coeff = damping_coeff\n",
    "        self.goal_type = goal_type\n",
    "        self.nb_actions = nb_actions\n",
    "        self.name_target = name_target\n",
    "        self.time_delta = tf.constant([time_delta])\n",
    "        self.env_dim = env_dim\n",
    "        self.memory_size = memory_size\n",
    "        self.name = name\n",
    "        self.goal_size = goal_size\n",
    "        self.batch_size = batch_size\n",
    "        self.bp = bp\n",
    "        self.vocabulary_size = vocabulary_size\n",
    "        \n",
    "        self.pos = self.bp.get_past_variable(variable_name = \"pos_\" + str(self.name), starting_value = np.float32(pos)) \n",
    "        self.velocity = self.bp.get_past_variable(\"velocity_\" + str(self.name), np.float32(v)) \n",
    "        self.gaze = self.bp.get_past_variable(\"gaze_\" + str(self.name), np.float32(gaze))\n",
    "        self.utterance = self.bp.get_past_variable(\"utterance_\" + str(self.name), \n",
    "                                                   np.float32(np.zeros([self.vocabulary_size, self.batch_size])))\n",
    "        \n",
    "        self.memory = self.bp.get_past_variable(\"memory_\" + str(self.name), np.float32(np.zeros([self.memory_size, \n",
    "                                                                                         self.batch_size])))\n",
    "        \n",
    "        self.memory_last = self.bp.get_past_variable(\"memory_last_\" + str(self.name), np.float32(\n",
    "            np.zeros([self.memory_size, self.batch_size])))\n",
    "        \n",
    "        self.tensor_goal_location = tf.constant(goal_location, tf.float32)\n",
    "        self.tensor_goal_type = tf.constant(goal_type, tf.float32)\n",
    "        self.col = tf.constant(col, tf.float32)\n",
    "        \n",
    "    #def reset_init_var(self, pos, velocity, gaze, goal_location, goal_type)\n",
    "    def take_step(self, list_positions, list_utterances, list_mem_comm, list_deltamem_comm, list_mem_last,\n",
    "              list_detlamem_last, goal, session):\n",
    "        feed_dict_all = self.create_feed_dict(list_positions, list_utterances, list_mem_comm, list_deltamem_comm, \n",
    "                list_mem_last, list_detlamem_last, goal)\n",
    "        return session.run([self.utterances, self.sample_move], feed_dict = feed_dict_all) \n",
    "\n",
    "    def get_move(self):\n",
    "        return self.p.sample_move\n",
    "    \n",
    "    def get_utterance(self):\n",
    "        return self.p.utterance\n",
    "    \n",
    "    def compute_reward_agent(self,goal_agent_pos, goal_agent_gaze, output_velocity, output_gaze): ## Modifier la norme u, il s'agit de l'output\n",
    "        #du réseau, non pas de la position !\n",
    "        r1 = tf.reshape(tf.square(tf.norm(goal_agent_pos - self.tensor_goal_location, axis = 0)), [1, self.batch_size])\n",
    "        r2 = tf.reshape(tf.square(tf.norm(goal_agent_gaze - self.tensor_goal_location, axis = 0)), [1, self.batch_size])\n",
    "        utt_norm = tf.square(tf.norm(self.new_utterance, axis = 0))\n",
    "        u_norm = tf.square(tf.norm(tf.concat([output_velocity, output_gaze], axis = 0), axis = 0))\n",
    "        vec = tf.concat([r1, r2, tf.zeros([1,self.batch_size], tf.float32)], axis = 0)\n",
    "        v1 = tf.reduce_sum(tf.multiply(vec, self.tensor_goal_type), axis = 0)\n",
    "        r = -(v1 + utt_norm + u_norm)\n",
    "        return r\n",
    "            \n",
    "    def compute_new_state(self, tensor_utterance, tensor_velocity, tensor_gaze, tensor_memory_delta, \n",
    "                          tensor_memory_last):\n",
    "        ## ADD THE FORCES TO THE NEW VELOCITY !!\n",
    "        ## ADD GAUSSIAN NOISE TO THE MEMORY UPDATE !\n",
    "        self.new_pos = self.bp.name_variable(variable_name = \"pos_\" + str(self.name), \n",
    "                                        v = self.pos + tf.multiply(self.velocity,self.time_delta))\n",
    "        self.new_velocity = self.bp.name_variable(\"velocity_\" + str(self.name), \n",
    "                                        (tf.multiply(self.velocity, self.damping_coeff) + \n",
    "                                                  tf.multiply(tensor_velocity, self.time_delta)))\n",
    "        self.new_gaze = self.bp.name_variable(\"gaze_\" + str(self.name), tensor_gaze)\n",
    "        self.new_memory = self.bp.name_variable(\"memory_\" + str(self.name), self.memory + tensor_memory_delta)\n",
    "        self.new_memory_last = self.bp.name_variable(\"memory_last_\" + str(self.name), self.memory_last + tensor_memory_last)\n",
    "        self.new_utterance = self.bp.name_variable(\"utterance_\" + str(self.name), tensor_utterance)\n",
    "\n",
    "                                            \n",
    "    def get_position(self):\n",
    "        return self.pos\n",
    "    \n",
    "    def get_velocity(self):\n",
    "        return self.velocity\n",
    "    \n",
    "    def get_gaze(self):\n",
    "        return self.gaze\n",
    "\n",
    "    def get_utterance(self):\n",
    "        return self.utterance\n",
    "                                        \n",
    "    def get_memory(self):\n",
    "        return self.memory\n",
    "    \n",
    "    def get_memory_last(self):\n",
    "        return self.memory_last\n",
    "    \n",
    "    def get_phys_state(self):\n",
    "        return (self.get_position(), self.get_velocity(), self.get_gaze(), self.get_col)\n",
    "    \n",
    "    def get_name_target(self):\n",
    "        return self.name_target\n",
    "    \n",
    "    def get_goal(self, other_ags):\n",
    "        other_agents = [other_ags[i].get_color() for i in self.name_target[0, :]]\n",
    "        colors = tf.concat(other_agents, axis = 1)\n",
    "        return tf.concat([self.tensor_goal_type, self.tensor_goal_location, colors], axis = 0)\n",
    "          \n",
    "    def get_all_iterations_variables(self):\n",
    "        return self.pos, self.velocity, self.gaze, self.utterance, self.memory, self.memory_last\n",
    "    \n",
    "    def get_color(self):\n",
    "        return self.col\n"
   ]
  },
  {
   "cell_type": "code",
   "execution_count": 202,
   "metadata": {
    "collapsed": false
   },
   "outputs": [
    {
     "name": "stdout",
     "output_type": "stream",
     "text": [
      "time: 299 ms\n"
     ]
    }
   ],
   "source": [
    "class Environment:\n",
    "    # Use this class to instantiate an environment on N batches. All batches share the same structure, but not not the\n",
    "    # same goals.\n",
    "    def __init__(self, bp, nb_agents = 3, nb_landmarks = 0, env_dim = 2, batch_size = 1024, goal_type_size = 3):\n",
    "        self.env_dim = env_dim\n",
    "        self.batch_size = batch_size\n",
    "        self.goal_type_size = goal_type_size\n",
    "        self.goal_size = self.goal_type_size + 3 + self.env_dim\n",
    "        self.nb_agents = nb_agents\n",
    "        self.nb_landmarks = nb_landmarks\n",
    "        self.list_agents = []\n",
    "        self.list_phys_tensors = []\n",
    "        self.list_utter_tensors = []\n",
    "        self.list_mem_tensors = []\n",
    "        self.list_mem_last_tensors = []\n",
    "        self.list_goals_tensors = []\n",
    "        self.bp = bp\n",
    "        \n",
    "    def init_agents(self):\n",
    "        for i in range(self.nb_agents):\n",
    "            ag = Agent(name = i, name_target = self.name_of_targets[i], bp = self.bp, \n",
    "                       pos = self.p[i], v = self.v[i], gaze = self.g[i], goal_location = self.gl[i], \n",
    "                       goal_type = self.go[i], col = self.co[i])\n",
    "            self.list_agents.append(ag)\n",
    "            self.list_phys_tensors.append(ag.get_position())\n",
    "            self.list_utter_tensors.append(ag.get_utterance())\n",
    "            self.list_mem_tensors.append(ag.get_memory())\n",
    "            self.list_mem_last_tensors.append(ag.get_memory_last())\n",
    "            \n",
    "    def init_goals_tensors(self):\n",
    "        for ag in self.list_agents: \n",
    "            self.list_goals_tensors.append(ag.get_goal(self.list_agents))\n",
    "     \n",
    "    def init_policy(self):\n",
    "        self.policy = Policy(self.nb_agents, self.nb_landmarks, self.list_phys_tensors, self.list_utter_tensors, \n",
    "                            self.list_mem_tensors, self.list_mem_last_tensors, self.list_goals_tensors, self.goal_size)\n",
    "        \n",
    "    def init_new_agents_states(self):\n",
    "        for i in range(self.nb_agents):\n",
    "            ag = self.list_agents[i]\n",
    "            tens_utterance = self.policy.list_utterance[i]\n",
    "            tens_velocity = self.policy.list_move[i]\n",
    "            tens_gaze = self.policy.list_gaze[i]\n",
    "            tens_mem_delta = self.policy.list_delta_mem_comm[i]\n",
    "            tens_mem_delta_last = self.policy.list_delta_mem_last[i]\n",
    "            ag.compute_new_state(tens_utterance, tens_velocity, tens_gaze, tens_mem_delta, tens_mem_delta_last)\n",
    "         \n",
    "\n",
    "    def init_reward_agents(self): ## Check the shuffle for the pos of agent and gaze is OK !!\n",
    "        rewards = []\n",
    "        ag_positions = []\n",
    "        ag_gazes = []\n",
    "        ag_goal_on_agent = []\n",
    "        ag_velocities = []\n",
    "        for i,agent in enumerate(self.list_agents):\n",
    "            ag_positions.append(agent.get_position())\n",
    "            ag_gazes.append(self.policy.list_gaze[i])\n",
    "            ag_velocities.append(self.policy.list_move[i])\n",
    "            \n",
    "        agent_positions = tf.stack(ag_positions, axis = 2)\n",
    "        agent_gazes = tf.stack(ag_gazes, axis = 2)\n",
    "        agent_velocities = tf.stack(ag_velocities, axis = 2)\n",
    "        \n",
    "        for i in range(self.nb_agents):\n",
    "            agent = self.list_agents[i]\n",
    "            name_target = agent.get_name_target()[0, :]\n",
    "            l1 = [[0, k, j] for k,j in enumerate(name_target)]\n",
    "            l2 = [[1, k, j] for k,j in enumerate(name_target)]\n",
    "            l3 = [l1, l2]\n",
    "            \n",
    "            #position_target = tf.reshape(tf.concat([tf.slice(agent_positions, [0, k, j], [self.env_dim, 1, 1])\n",
    "            #                              for k,j in enumerate(name_target)], axis = 1), \n",
    "            #                             [self.env_dim, self.batch_size])\n",
    "            position_target = tf.gather_nd(agent_positions, l3)\n",
    "            gaze_target = tf.gather_nd(agent_gazes, l3)\n",
    "            \n",
    "            #gaze_target = tf.reshape(tf.concat([tf.slice(agent_gazes, [0, k, j], [self.env_dim, 1, 1])\n",
    "            #                              for k,j in enumerate(name_target)], axis = 1), \n",
    "            #                             [self.env_dim, self.batch_size])  \n",
    "            \n",
    "            own_velocity = tf.reshape(tf.slice(agent_velocities, [0, 0, i], [self.env_dim, self.batch_size, 1]), \n",
    "                                         [self.env_dim, self.batch_size])  \n",
    "            \n",
    "            own_gaze = tf.reshape(tf.slice(agent_gazes, [0, 0, i], [self.env_dim, self.batch_size, 1]), \n",
    "                                         [self.env_dim, self.batch_size])            \n",
    "            \n",
    "            reward_agent = agent.compute_reward_agent(position_target, gaze_target, own_velocity, own_gaze)\n",
    "            rewards.append(reward_agent)\n",
    "          \n",
    "        \n",
    "        self.rewards_batch = tf.reduce_sum(tf.concat(rewards, axis = 0), axis = 0)\n",
    "                \n",
    "    def get_all_iteration_var(self):\n",
    "        return [tensor for ag in self.list_agents for tensor in ag.get_all_iterations_variables()]\n",
    "    \n",
    "    def get_reward_batch(self):\n",
    "        return self.rewards_batch\n",
    "    \n",
    "    def get_position_batch(self):\n",
    "        return [ag.new_pos for ag in self.list_agents]\n",
    "    \n",
    "    def random_env_init(self):\n",
    "        self.name_of_targets = []\n",
    "        self.p = []\n",
    "        self.v = []\n",
    "        self.g = []\n",
    "        self.go = []\n",
    "        self.co = []\n",
    "        self.gl = []\n",
    "        for i in range(self.nb_agents):\n",
    "            self.name_of_targets.append(np.random.randint(0, self.nb_agents, (1, self.batch_size)))\n",
    "            #self.p.append(np.transpose(np.array([[0,0] for i in range(self.batch_size)])))\n",
    "            self.p.append(np.random.uniform(0, 0.5, [2, self.batch_size]))\n",
    "            #self.gl.append(np.transpose(np.array([[1,1] for i in range(self.batch_size)])))\n",
    "            self.gl.append(np.random.uniform(0, 0.5, [2, self.batch_size]))\n",
    "            self.v.append(np.zeros([self.env_dim, self.batch_size]))\n",
    "            self.g.append(np.zeros([self.env_dim, self.batch_size]))\n",
    "            self.go.append(np.transpose(np.array([[1,0, 0] for i in range(self.batch_size)])))\n",
    "            self.co.append(np.random.uniform(0, 255, [3, 1]))\n",
    "            \n",
    "        \n",
    "        self.init_agents()\n",
    "        self.init_goals_tensors()\n",
    "        self.init_policy()\n",
    "        self.init_new_agents_states()\n",
    "        self.init_reward_agents()    \n",
    "        "
   ]
  },
  {
   "cell_type": "code",
   "execution_count": 207,
   "metadata": {
    "collapsed": false
   },
   "outputs": [
    {
     "name": "stdout",
     "output_type": "stream",
     "text": [
      "time: 56.6 ms\n"
     ]
    }
   ],
   "source": [
    "class Experiment:\n",
    "    \n",
    "    def __init__(self, time_horizon, batch_size = 1024):\n",
    "        self.bp = BPTT()\n",
    "        self.time_horizon = time_horizon\n",
    "        self.list_rewards = []\n",
    "        self.batch_size = batch_size\n",
    "        tf.reset_default_graph()\n",
    "            \n",
    "    def instantiate_graph(self, bp, depth_type):## ADD THE AUXILIARY REWARDS !!!!!\n",
    "        self.env = Environment(self.bp, nb_agents = 1)\n",
    "        self.env.random_env_init()\n",
    "        return ([self.env.get_reward_batch()] + self.env.get_position_batch())\n",
    "    \n",
    "    def instantiate_both_graphs(self):\n",
    "        self.graphs = self.bp.generate_graphs(self.instantiate_graph, self.time_horizon)\n",
    "        \n",
    "    def train_batch(self, sess):\n",
    "        self.list_rewards = []\n",
    "        self.list_distances = []\n",
    "        self.list_last_pos = []\n",
    "        last_pos = [v[1] for v in self.graphs[\"deep\"]][-1]\n",
    "        last_coord = tf.reduce_mean(last_pos, axis = 1)\n",
    "        mean_reward = tf.reduce_mean([v[0] for v in self.graphs[\"deep\"]])\n",
    "        self.last_distance = tf.norm(last_pos - tf.constant(self.env.gl[0], tf.float32), axis = 0)\n",
    "        mean_last_distance = tf.reduce_mean(self.last_distance)\n",
    "        optimizer = tf.train.RMSPropOptimizer(0.0001)\n",
    "        step = optimizer.minimize(-mean_reward)\n",
    "        print(\"Initializing\")\n",
    "        init_op = tf.global_variables_initializer()\n",
    "        sess.run(init_op)\n",
    "        print(\"Creating dict\")\n",
    "        frame_dict = self.bp.generate_feed_dict(\"deep\", [], 0)\n",
    "        print(\"Start running\")\n",
    "        for i in range(1000):\n",
    "            _, l, m_ld, l_p = sess.run([step, mean_reward, mean_last_distance, last_coord], feed_dict = frame_dict)\n",
    "            self.list_rewards.append(l)\n",
    "            self.list_distances.append(m_ld)\n",
    "            self.list_last_pos.append(l_p)\n",
    "            if i % 10 == 0:\n",
    "                print(\"Reward after iteration \" + str(i) + \": \" + str(l))\n",
    "                print(\"Distance after iteration \" + str(i) + \": \" + str(m_ld))\n",
    "                print(\"Last position after iteration \" + str(i) + \": (\" + str(l_p[0]) + \",\" + str(l_p[1]) + \")\" )\n",
    "                  \n",
    "        return self.list_rewards, self.list_distances, self.list_last_pos\n",
    "    "
   ]
  },
  {
   "cell_type": "code",
   "execution_count": 208,
   "metadata": {
    "collapsed": false
   },
   "outputs": [
    {
     "name": "stdout",
     "output_type": "stream",
     "text": [
      "time: 1.91 ms\n"
     ]
    }
   ],
   "source": [
    "exp = Experiment(200)"
   ]
  },
  {
   "cell_type": "code",
   "execution_count": null,
   "metadata": {
    "collapsed": false
   },
   "outputs": [
    {
     "name": "stdout",
     "output_type": "stream",
     "text": [
      "time: 3min 24s\n"
     ]
    }
   ],
   "source": [
    "exp.instantiate_both_graphs()\n",
    "#train_writer = tf.summary.FileWriter('train',\n",
    "#                                      tf.get_default_graph())"
   ]
  },
  {
   "cell_type": "code",
   "execution_count": null,
   "metadata": {
    "collapsed": false
   },
   "outputs": [
    {
     "name": "stdout",
     "output_type": "stream",
     "text": [
      "Initializing\n",
      "Creating dict\n",
      "Start running\n",
      "Reward after iteration 0: -351.654\n",
      "Distance after iteration 0: 0.259376\n",
      "Last position after iteration 0: (0.250312,0.245692)\n",
      "Reward after iteration 10: -351.388\n",
      "Distance after iteration 10: 0.25937\n",
      "Last position after iteration 10: (0.250245,0.246197)\n",
      "Reward after iteration 20: -351.531\n",
      "Distance after iteration 20: 0.259363\n",
      "Last position after iteration 20: (0.250149,0.246906)\n",
      "Reward after iteration 30: -351.282\n",
      "Distance after iteration 30: 0.259358\n",
      "Last position after iteration 30: (0.250033,0.247776)\n"
     ]
    }
   ],
   "source": [
    "with tf.Session() as sess:\n",
    "    l_r, l_d, l_p = exp.train_batch(sess)"
   ]
  },
  {
   "cell_type": "code",
   "execution_count": null,
   "metadata": {
    "collapsed": false
   },
   "outputs": [],
   "source": [
    "e = [n.name for n in tf.get_default_graph().as_graph_def().node]"
   ]
  },
  {
   "cell_type": "code",
   "execution_count": 45,
   "metadata": {
    "collapsed": false
   },
   "outputs": [
    {
     "name": "stdout",
     "output_type": "stream",
     "text": [
      "time: 2.08 ms\n"
     ]
    }
   ],
   "source": [
    "import pandas as pd\n",
    "#df = pd.DataFrame({\"A\":l_r})"
   ]
  },
  {
   "cell_type": "code",
   "execution_count": 127,
   "metadata": {
    "collapsed": false
   },
   "outputs": [
    {
     "name": "stderr",
     "output_type": "stream",
     "text": [
      "/Users/ducrocqgabriel/anaconda/lib/python3.6/site-packages/ipykernel/__main__.py:1: FutureWarning: pd.rolling_mean is deprecated for DataFrame and will be removed in a future version, replace with \n",
      "\tDataFrame.rolling(window=50,center=False).mean()\n",
      "  if __name__ == '__main__':\n"
     ]
    },
    {
     "data": {
      "text/plain": [
       "<matplotlib.axes._subplots.AxesSubplot at 0x128065780>"
      ]
     },
     "execution_count": 127,
     "metadata": {},
     "output_type": "execute_result"
    },
    {
     "data": {
      "image/png": "[encoded data removed]",
      "text/plain": [
       "<matplotlib.figure.Figure at 0x120c27630>"
      ]
     },
     "metadata": {},
     "output_type": "display_data"
    },
    {
     "name": "stdout",
     "output_type": "stream",
     "text": [
      "time: 170 ms\n"
     ]
    }
   ],
   "source": [
    "pd.rolling_mean(df, 50).plot()"
   ]
  },
  {
   "cell_type": "code",
   "execution_count": 128,
   "metadata": {
    "collapsed": false
   },
   "outputs": [
    {
     "data": {
      "image/png": "[encoded data removed]",
      "text/plain": [
       "<matplotlib.figure.Figure at 0x120c27898>"
      ]
     },
     "metadata": {},
     "output_type": "display_data"
    },
    {
     "name": "stdout",
     "output_type": "stream",
     "text": [
      "time: 142 ms\n"
     ]
    }
   ],
   "source": [
    "plt.plot(l_r)\n",
    "plt.show()"
   ]
  },
  {
   "cell_type": "code",
   "execution_count": 141,
   "metadata": {
    "collapsed": false
   },
   "outputs": [
    {
     "ename": "AttributeError",
     "evalue": "'Experiment' object has no attribute 'mean_dist'",
     "output_type": "error",
     "traceback": [
      "\u001b[0;31m---------------------------------------------------------------------------\u001b[0m",
      "\u001b[0;31mAttributeError\u001b[0m                            Traceback (most recent call last)",
      "\u001b[0;32m<ipython-input-141-f98d794de1a2>\u001b[0m in \u001b[0;36m<module>\u001b[0;34m()\u001b[0m\n\u001b[0;32m----> 1\u001b[0;31m \u001b[0mexp\u001b[0m\u001b[0;34m.\u001b[0m\u001b[0mmean_dist\u001b[0m\u001b[0;34m\u001b[0m\u001b[0m\n\u001b[0m",
      "\u001b[0;31mAttributeError\u001b[0m: 'Experiment' object has no attribute 'mean_dist'"
     ]
    },
    {
     "name": "stdout",
     "output_type": "stream",
     "text": [
      "time: 6.53 ms\n"
     ]
    }
   ],
   "source": [
    "exp.mean_dist"
   ]
  },
  {
   "cell_type": "code",
   "execution_count": 180,
   "metadata": {
    "collapsed": false
   },
   "outputs": [
    {
     "data": {
      "image/png": "[encoded data removed]",
      "text/plain": [
       "<matplotlib.figure.Figure at 0x11e833b70>"
      ]
     },
     "metadata": {},
     "output_type": "display_data"
    },
    {
     "name": "stdout",
     "output_type": "stream",
     "text": [
      "time: 8.38 s\n"
     ]
    }
   ],
   "source": [
    "import numpy as np\n",
    "from matplotlib import pyplot as plt\n",
    "from matplotlib import animation\n",
    "\n",
    "# First set up the figure, the axis, and the plot element we want to animate\n",
    "fig = plt.figure()\n",
    "ax = plt.axes(xlim=(0, 2), ylim=(-2, 2))\n",
    "line, = ax.plot([], [], lw=2)\n",
    "\n",
    "# initialization function: plot the background of each frame\n",
    "def init():\n",
    "    line.set_data([], [])\n",
    "    return line,\n",
    "\n",
    "# animation function.  This is called sequentially\n",
    "def animate(i):\n",
    "    x = np.linspace(0, 2, 1000)\n",
    "    y = np.sin(2 * np.pi * (x - 0.01 * i))\n",
    "    line.set_data(x, y)\n",
    "    return line,\n",
    "\n",
    "# call the animator.  blit=True means only re-draw the parts that have changed.\n",
    "anim = animation.FuncAnimation(fig, animate, init_func=init,\n",
    "                               frames=200, interval=20, blit=True)\n",
    "\n",
    "# save the animation as an mp4.  This requires ffmpeg or mencoder to be\n",
    "# installed.  The extra_args ensure that the x264 codec is used, so that\n",
    "# the video can be embedded in html5.  You may need to adjust this for\n",
    "# your system: for more information, see\n",
    "# http://matplotlib.sourceforge.net/api/animation_api.html\n",
    "anim.save('basic_animation.mp4', fps=30, extra_args=['-vcodec', 'libx264'])\n",
    "\n",
    "plt.show()"
   ]
  },
  {
   "cell_type": "code",
   "execution_count": 208,
   "metadata": {
    "collapsed": false
   },
   "outputs": [
    {
     "data": {
      "text/plain": [
       "[[<tf.Tensor 'unrolled_model/unroll/add:0' shape=(2, 1024) dtype=float32>],\n",
       " [<tf.Tensor 'unrolled_model/unroll_1/add:0' shape=(2, 1024) dtype=float32>],\n",
       " [<tf.Tensor 'unrolled_model/unroll_2/add:0' shape=(2, 1024) dtype=float32>],\n",
       " [<tf.Tensor 'unrolled_model/unroll_3/add:0' shape=(2, 1024) dtype=float32>],\n",
       " [<tf.Tensor 'unrolled_model/unroll_4/add:0' shape=(2, 1024) dtype=float32>],\n",
       " [<tf.Tensor 'unrolled_model/unroll_5/add:0' shape=(2, 1024) dtype=float32>],\n",
       " [<tf.Tensor 'unrolled_model/unroll_6/add:0' shape=(2, 1024) dtype=float32>],\n",
       " [<tf.Tensor 'unrolled_model/unroll_7/add:0' shape=(2, 1024) dtype=float32>],\n",
       " [<tf.Tensor 'unrolled_model/unroll_8/add:0' shape=(2, 1024) dtype=float32>],\n",
       " [<tf.Tensor 'unrolled_model/unroll_9/add:0' shape=(2, 1024) dtype=float32>]]"
      ]
     },
     "execution_count": 208,
     "metadata": {},
     "output_type": "execute_result"
    },
    {
     "name": "stdout",
     "output_type": "stream",
     "text": [
      "time: 3.19 ms\n"
     ]
    }
   ],
   "source": [
    "[v[1] for v in exp.graphs[\"deep\"]]"
   ]
  },
  {
   "cell_type": "code",
   "execution_count": 196,
   "metadata": {
    "collapsed": false
   },
   "outputs": [
    {
     "name": "stderr",
     "output_type": "stream",
     "text": [
      "/Users/gabrielducrocq/anaconda/lib/python3.5/site-packages/ipykernel/__main__.py:2: FutureWarning: pd.rolling_mean is deprecated for DataFrame and will be removed in a future version, replace with \n",
      "\tDataFrame.rolling(center=False,window=1).mean()\n",
      "  from ipykernel import kernelapp as app\n"
     ]
    },
    {
     "data": {
      "text/plain": [
       "<matplotlib.axes._subplots.AxesSubplot at 0x139795d30>"
      ]
     },
     "execution_count": 196,
     "metadata": {},
     "output_type": "execute_result"
    },
    {
     "data": {
      "image/png": "[encoded data removed]",
      "text/plain": [
       "<matplotlib.figure.Figure at 0x24989cba8>"
      ]
     },
     "metadata": {},
     "output_type": "display_data"
    },
    {
     "name": "stdout",
     "output_type": "stream",
     "text": [
      "time: 2.28 s\n"
     ]
    }
   ],
   "source": [
    "d_loss = pd.DataFrame({\"A\":exp.list_rewards})\n",
    "pd.rolling_mean(d_loss, 1).plot()"
   ]
  },
  {
   "cell_type": "code",
   "execution_count": 197,
   "metadata": {
    "collapsed": false
   },
   "outputs": [
    {
     "name": "stderr",
     "output_type": "stream",
     "text": [
      "/Users/gabrielducrocq/anaconda/lib/python3.5/site-packages/ipykernel/__main__.py:2: FutureWarning: pd.rolling_mean is deprecated for DataFrame and will be removed in a future version, replace with \n",
      "\tDataFrame.rolling(center=False,window=10).mean()\n",
      "  from ipykernel import kernelapp as app\n"
     ]
    },
    {
     "data": {
      "text/plain": [
       "<matplotlib.axes._subplots.AxesSubplot at 0x15df73080>"
      ]
     },
     "execution_count": 197,
     "metadata": {},
     "output_type": "execute_result"
    },
    {
     "data": {
      "image/png": "[encoded data removed]",
      "text/plain": [
       "<matplotlib.figure.Figure at 0x324aa6b70>"
      ]
     },
     "metadata": {},
     "output_type": "display_data"
    },
    {
     "name": "stdout",
     "output_type": "stream",
     "text": [
      "time: 677 ms\n"
     ]
    }
   ],
   "source": [
    "d_distance = pd.DataFrame({\"A\":exp.list_distances})\n",
    "pd.rolling_mean(d_distance, 10).plot()"
   ]
  },
  {
   "cell_type": "code",
   "execution_count": 187,
   "metadata": {
    "collapsed": false
   },
   "outputs": [
    {
     "name": "stdout",
     "output_type": "stream",
     "text": [
      "time: 62.1 ms\n"
     ]
    }
   ],
   "source": [
    "x = [l[0] for l in exp.list_last_pos]\n",
    "y = [l[1] for l in exp.list_last_pos]"
   ]
  },
  {
   "cell_type": "code",
   "execution_count": 188,
   "metadata": {
    "collapsed": false
   },
   "outputs": [
    {
     "data": {
      "image/png": "[encoded data removed]",
      "text/plain": [
       "<matplotlib.figure.Figure at 0x38fd32d68>"
      ]
     },
     "metadata": {},
     "output_type": "display_data"
    },
    {
     "name": "stdout",
     "output_type": "stream",
     "text": [
      "time: 251 ms\n"
     ]
    }
   ],
   "source": [
    "plt.plot(x)\n",
    "plt.show()"
   ]
  },
  {
   "cell_type": "code",
   "execution_count": 189,
   "metadata": {
    "collapsed": false
   },
   "outputs": [
    {
     "data": {
      "image/png": "[encoded data removed]",
      "text/plain": [
       "<matplotlib.figure.Figure at 0x373ffe2e8>"
      ]
     },
     "metadata": {},
     "output_type": "display_data"
    },
    {
     "name": "stdout",
     "output_type": "stream",
     "text": [
      "time: 229 ms\n"
     ]
    }
   ],
   "source": [
    "plt.plot(y)\n",
    "plt.show()"
   ]
  },
  {
   "cell_type": "code",
   "execution_count": 51,
   "metadata": {
    "collapsed": false
   },
   "outputs": [
    {
     "data": {
      "text/plain": [
       "[-2.2958116e-06,\n",
       " 9.467356e-06,\n",
       " 2.0522149e-05,\n",
       " 3.1006573e-05,\n",
       " 4.2094634e-05,\n",
       " 5.3634874e-05,\n",
       " 6.6518522e-05,\n",
       " 7.987085e-05,\n",
       " 9.5443305e-05,\n",
       " 0.00011218048,\n",
       " 0.00013123931,\n",
       " 0.0001524719,\n",
       " 0.00017628376,\n",
       " 0.00020300706,\n",
       " 0.00023276889,\n",
       " 0.00026559035,\n",
       " 0.00030192279,\n",
       " 0.00034205173,\n",
       " 0.00038596528,\n",
       " 0.00043371142,\n",
       " 0.00048528492,\n",
       " 0.00054148689,\n",
       " 0.00060065562,\n",
       " 0.00066483958,\n",
       " 0.00073214795,\n",
       " 0.00080441998,\n",
       " 0.00088042946,\n",
       " 0.0009605505,\n",
       " 0.0010433106,\n",
       " 0.0011314519,\n",
       " 0.001222854,\n",
       " 0.0013180977,\n",
       " 0.0014173938,\n",
       " 0.0015198635,\n",
       " 0.0016253334,\n",
       " 0.0017352051,\n",
       " 0.0018467359,\n",
       " 0.0019630818,\n",
       " 0.0020827164,\n",
       " 0.0022053518,\n",
       " 0.0023301085,\n",
       " 0.0024585039,\n",
       " 0.0025888646,\n",
       " 0.0027235693,\n",
       " 0.0028599428,\n",
       " 0.0029990294,\n",
       " 0.0031430982,\n",
       " 0.0032881782,\n",
       " 0.0034356799,\n",
       " 0.0035857339,\n",
       " 0.0037413605,\n",
       " 0.0038924003,\n",
       " 0.0040508187,\n",
       " 0.0042106193,\n",
       " 0.004371997,\n",
       " 0.0045336252,\n",
       " 0.0047002002,\n",
       " 0.0048660953,\n",
       " 0.0050310092,\n",
       " 0.0051996829,\n",
       " 0.0053723375,\n",
       " 0.0055422643,\n",
       " 0.0057098968,\n",
       " 0.0058846292,\n",
       " 0.0060534282,\n",
       " 0.0062250621,\n",
       " 0.0063984469,\n",
       " 0.0065682381,\n",
       " 0.0067367214,\n",
       " 0.0069060102,\n",
       " 0.0070693903,\n",
       " 0.0072368798,\n",
       " 0.0074028363,\n",
       " 0.0075635198,\n",
       " 0.0077213598,\n",
       " 0.007877958,\n",
       " 0.0080339257,\n",
       " 0.0081845168,\n",
       " 0.0083361268,\n",
       " 0.0084785596,\n",
       " 0.0086253397,\n",
       " 0.0087583754,\n",
       " 0.008897326,\n",
       " 0.0090201357,\n",
       " 0.0091562709,\n",
       " 0.0092762895,\n",
       " 0.0094049508,\n",
       " 0.0095108505,\n",
       " 0.0096266102,\n",
       " 0.0097296443,\n",
       " 0.0098320702,\n",
       " 0.009931922,\n",
       " 0.010022504,\n",
       " 0.010112236,\n",
       " 0.010197442,\n",
       " 0.010278823,\n",
       " 0.010351747,\n",
       " 0.010424713,\n",
       " 0.01049189,\n",
       " 0.010564458,\n",
       " 0.010613455,\n",
       " 0.01068281,\n",
       " 0.010727652,\n",
       " 0.010781683,\n",
       " 0.010833672,\n",
       " 0.010871259,\n",
       " 0.01091327,\n",
       " 0.010961295,\n",
       " 0.010988573,\n",
       " 0.011020391,\n",
       " 0.011044487,\n",
       " 0.011078144,\n",
       " 0.011095729,\n",
       " 0.011120427,\n",
       " 0.011133434,\n",
       " 0.011156371,\n",
       " 0.011171998,\n",
       " 0.011180721,\n",
       " 0.011202507,\n",
       " 0.011200797,\n",
       " 0.011205288,\n",
       " 0.011219008,\n",
       " 0.011203893,\n",
       " 0.011233797,\n",
       " 0.011212902,\n",
       " 0.011248922,\n",
       " 0.011203274,\n",
       " 0.011259734,\n",
       " 0.011209673,\n",
       " 0.011241418,\n",
       " 0.011217423,\n",
       " 0.011240023,\n",
       " 0.011224892,\n",
       " 0.011254471,\n",
       " 0.011212016,\n",
       " 0.011268402,\n",
       " 0.011194287,\n",
       " 0.011259016,\n",
       " 0.011225315,\n",
       " 0.011232593,\n",
       " 0.011228966,\n",
       " 0.011222724,\n",
       " 0.011231415,\n",
       " 0.011217988,\n",
       " 0.011267917,\n",
       " 0.011185877,\n",
       " 0.011269483,\n",
       " 0.011196425,\n",
       " 0.011254483,\n",
       " 0.011210012,\n",
       " 0.01123995,\n",
       " 0.011229198,\n",
       " 0.01122846,\n",
       " 0.011228369,\n",
       " 0.011227407,\n",
       " 0.011234774,\n",
       " 0.011234986,\n",
       " 0.01120298,\n",
       " 0.01127482,\n",
       " 0.011181242,\n",
       " 0.011293666,\n",
       " 0.011155391,\n",
       " 0.011319494,\n",
       " 0.011115149,\n",
       " 0.011351288,\n",
       " 0.011085341,\n",
       " 0.011395883,\n",
       " 0.011079736,\n",
       " 0.011342959,\n",
       " 0.011147273,\n",
       " 0.011280971,\n",
       " 0.011210677,\n",
       " 0.011245854,\n",
       " 0.011216247,\n",
       " 0.011247574,\n",
       " 0.011212382,\n",
       " 0.011263239,\n",
       " 0.011170059,\n",
       " 0.011307484,\n",
       " 0.011136478,\n",
       " 0.011330895,\n",
       " 0.011149044,\n",
       " 0.011317477,\n",
       " 0.011140083,\n",
       " 0.011318684,\n",
       " 0.011177167,\n",
       " 0.01129292,\n",
       " 0.011186566,\n",
       " 0.01128028,\n",
       " 0.011168236,\n",
       " 0.011296963,\n",
       " 0.011189886,\n",
       " 0.01125703,\n",
       " 0.01120561,\n",
       " 0.011238459,\n",
       " 0.011198359,\n",
       " 0.011263276,\n",
       " 0.011202618,\n",
       " 0.011269504,\n",
       " 0.011159752,\n",
       " 0.011302158,\n",
       " 0.011113532,\n",
       " 0.011351898,\n",
       " 0.011144809,\n",
       " 0.011304845,\n",
       " 0.01115044,\n",
       " 0.01130991,\n",
       " 0.011139818,\n",
       " 0.011329668,\n",
       " 0.011144359,\n",
       " 0.011331638,\n",
       " 0.011129586,\n",
       " 0.01132331,\n",
       " 0.011143517,\n",
       " 0.011312564,\n",
       " 0.011136932,\n",
       " 0.011335801,\n",
       " 0.011094954,\n",
       " 0.011353383,\n",
       " 0.011149847,\n",
       " 0.01131206,\n",
       " 0.011138529,\n",
       " 0.011338253,\n",
       " 0.011146519,\n",
       " 0.011292886,\n",
       " 0.011173224,\n",
       " 0.011272204,\n",
       " 0.011184031,\n",
       " 0.011278505,\n",
       " 0.011171832,\n",
       " 0.011268812,\n",
       " 0.011180882,\n",
       " 0.011280321,\n",
       " 0.011157839,\n",
       " 0.011327464,\n",
       " 0.011116434,\n",
       " 0.011341901,\n",
       " 0.011147045,\n",
       " 0.011298692,\n",
       " 0.011162294,\n",
       " 0.011297174,\n",
       " 0.011178642,\n",
       " 0.011302403,\n",
       " 0.011159725,\n",
       " 0.011321878,\n",
       " 0.011130435,\n",
       " 0.011329427,\n",
       " 0.011148278,\n",
       " 0.011324072,\n",
       " 0.011134316,\n",
       " 0.011324161,\n",
       " 0.011141993,\n",
       " 0.01129844,\n",
       " 0.011189321,\n",
       " 0.011268029,\n",
       " 0.011187896,\n",
       " 0.011304785,\n",
       " 0.011166029,\n",
       " 0.011297315,\n",
       " 0.011133546,\n",
       " 0.011324883,\n",
       " 0.01113043,\n",
       " 0.01129518,\n",
       " 0.011171131,\n",
       " 0.011248587,\n",
       " 0.011239422,\n",
       " 0.011245679,\n",
       " 0.011193426,\n",
       " 0.011297567,\n",
       " 0.011130324,\n",
       " 0.011363195,\n",
       " 0.011087416,\n",
       " 0.011373652,\n",
       " 0.011084398,\n",
       " 0.011343732,\n",
       " 0.011115953,\n",
       " 0.011359105,\n",
       " 0.011108636,\n",
       " 0.01130526,\n",
       " 0.011159906,\n",
       " 0.011288358,\n",
       " 0.011155894,\n",
       " 0.011330755,\n",
       " 0.011092884,\n",
       " 0.01139994,\n",
       " 0.011069993,\n",
       " 0.01139017,\n",
       " 0.011098528,\n",
       " 0.011320883,\n",
       " 0.011130471,\n",
       " 0.011335382,\n",
       " 0.011120197,\n",
       " 0.011325637,\n",
       " 0.011137657,\n",
       " 0.011347663,\n",
       " 0.011097002,\n",
       " 0.011355362,\n",
       " 0.011140184,\n",
       " 0.011315126,\n",
       " 0.011148568,\n",
       " 0.011295777,\n",
       " 0.011173061,\n",
       " 0.011286488,\n",
       " 0.011187788,\n",
       " 0.011251308,\n",
       " 0.011206783,\n",
       " 0.011254135,\n",
       " 0.011183661,\n",
       " 0.011285416,\n",
       " 0.011180924,\n",
       " 0.011307414,\n",
       " 0.011154648,\n",
       " 0.011315649,\n",
       " 0.011139003,\n",
       " 0.011320047,\n",
       " 0.011136962,\n",
       " 0.011286173,\n",
       " 0.011183432,\n",
       " 0.011267098,\n",
       " 0.011208644,\n",
       " 0.011257101,\n",
       " 0.011204697,\n",
       " 0.011264579,\n",
       " 0.011172911,\n",
       " 0.01130736,\n",
       " 0.011151192,\n",
       " 0.0113221,\n",
       " 0.011154694,\n",
       " 0.011290777,\n",
       " 0.011170504,\n",
       " 0.011297712,\n",
       " 0.011170196,\n",
       " 0.011289818,\n",
       " 0.011194874,\n",
       " 0.011258591,\n",
       " 0.011198802,\n",
       " 0.011275887,\n",
       " 0.011197478,\n",
       " 0.011282592,\n",
       " 0.01116638,\n",
       " 0.011268979,\n",
       " 0.011198277,\n",
       " 0.011243155,\n",
       " 0.011237842,\n",
       " 0.011206161,\n",
       " 0.011259645,\n",
       " 0.011222526,\n",
       " 0.011223336,\n",
       " 0.011260574,\n",
       " 0.011217244,\n",
       " 0.01125798,\n",
       " 0.011184221,\n",
       " 0.011305904,\n",
       " 0.011124235,\n",
       " 0.011351109,\n",
       " 0.011060527,\n",
       " 0.011412047,\n",
       " 0.011068254,\n",
       " 0.011343857,\n",
       " 0.011128576,\n",
       " 0.011307425,\n",
       " 0.011165407,\n",
       " 0.011267358,\n",
       " 0.01117944,\n",
       " 0.011296778,\n",
       " 0.011165716,\n",
       " 0.011324081,\n",
       " 0.01112202,\n",
       " 0.011338037,\n",
       " 0.011119222,\n",
       " 0.011337888,\n",
       " 0.011128635,\n",
       " 0.011332824,\n",
       " 0.011153066,\n",
       " 0.011288149,\n",
       " 0.011139679,\n",
       " 0.011335781,\n",
       " 0.011106118,\n",
       " 0.011355668,\n",
       " 0.011091242,\n",
       " 0.011397941,\n",
       " 0.011067972,\n",
       " 0.011372318,\n",
       " 0.011115162,\n",
       " 0.011332522,\n",
       " 0.011146592,\n",
       " 0.011298934,\n",
       " 0.011122735,\n",
       " 0.01133745,\n",
       " 0.011126872,\n",
       " 0.011346744,\n",
       " 0.011078048,\n",
       " 0.011361069,\n",
       " 0.011106944,\n",
       " 0.011334627,\n",
       " 0.011115249,\n",
       " 0.011336155,\n",
       " 0.011117347,\n",
       " 0.011333069,\n",
       " 0.01110613,\n",
       " 0.011332732,\n",
       " 0.011119765,\n",
       " 0.011318767,\n",
       " 0.011146808,\n",
       " 0.011298508,\n",
       " 0.011183103,\n",
       " 0.011253961,\n",
       " 0.011201213,\n",
       " 0.011235544,\n",
       " 0.011222082,\n",
       " 0.011255641,\n",
       " 0.01120676,\n",
       " 0.01124866,\n",
       " 0.011191601,\n",
       " 0.011274939,\n",
       " 0.011193151,\n",
       " 0.011270078,\n",
       " 0.011166999,\n",
       " 0.011283664,\n",
       " 0.011141131,\n",
       " 0.011330565,\n",
       " 0.011165737,\n",
       " 0.011280829,\n",
       " 0.011166382,\n",
       " 0.011297353,\n",
       " 0.011142494,\n",
       " 0.011344518,\n",
       " 0.011118582,\n",
       " 0.01132525,\n",
       " 0.011144811,\n",
       " 0.011295262,\n",
       " 0.011173788,\n",
       " 0.011278605,\n",
       " 0.011186104,\n",
       " 0.011267537,\n",
       " 0.011168996,\n",
       " 0.011311691,\n",
       " 0.011116665,\n",
       " 0.011329336,\n",
       " 0.011111069,\n",
       " 0.011352738,\n",
       " 0.011114511,\n",
       " 0.011338887,\n",
       " 0.011107124,\n",
       " 0.011325134,\n",
       " 0.011149156,\n",
       " 0.011315966,\n",
       " 0.011151022,\n",
       " 0.011330043,\n",
       " 0.011128097,\n",
       " 0.011352147,\n",
       " 0.011106949,\n",
       " 0.011371271,\n",
       " 0.011111474,\n",
       " 0.011312768,\n",
       " 0.011137099,\n",
       " 0.011354236,\n",
       " 0.01109439,\n",
       " 0.011348717,\n",
       " 0.011124428,\n",
       " 0.011289684,\n",
       " 0.011161269,\n",
       " 0.011313715,\n",
       " 0.011131724,\n",
       " 0.011347606,\n",
       " 0.011119043,\n",
       " 0.011335909,\n",
       " 0.011103874,\n",
       " 0.011366083,\n",
       " 0.011078326,\n",
       " 0.01137805,\n",
       " 0.011091223,\n",
       " 0.011333411,\n",
       " 0.011137619,\n",
       " 0.011278449,\n",
       " 0.011183741,\n",
       " 0.011271546,\n",
       " 0.011171166,\n",
       " 0.01132354,\n",
       " 0.011106472,\n",
       " 0.01131536,\n",
       " 0.011135647,\n",
       " 0.011326747,\n",
       " 0.011140464,\n",
       " 0.011291826,\n",
       " 0.011169888,\n",
       " 0.011252353,\n",
       " 0.011219366,\n",
       " 0.011255637,\n",
       " 0.011218688,\n",
       " 0.011222741,\n",
       " 0.011251287,\n",
       " 0.011214939,\n",
       " 0.011257292,\n",
       " 0.011180907,\n",
       " 0.011274999,\n",
       " 0.011203651,\n",
       " 0.011194283,\n",
       " 0.011305677,\n",
       " 0.01117727,\n",
       " 0.011218293,\n",
       " 0.011231825,\n",
       " 0.011217711,\n",
       " 0.011273952,\n",
       " 0.011187654,\n",
       " 0.011264877,\n",
       " 0.011151855,\n",
       " 0.011359357,\n",
       " 0.011096669,\n",
       " 0.011393394,\n",
       " 0.011120433,\n",
       " 0.011304352,\n",
       " 0.011178676,\n",
       " 0.011244328,\n",
       " 0.011203773,\n",
       " 0.011236696,\n",
       " 0.011189297,\n",
       " 0.011283337,\n",
       " 0.011164276,\n",
       " 0.011282145,\n",
       " 0.01118047,\n",
       " 0.01129408,\n",
       " 0.011143158,\n",
       " 0.011323093,\n",
       " 0.011138339,\n",
       " 0.011309141,\n",
       " 0.011184998,\n",
       " 0.011239447,\n",
       " 0.011256672,\n",
       " 0.011206063,\n",
       " 0.011258059,\n",
       " 0.011176614,\n",
       " 0.011272483,\n",
       " 0.011164319,\n",
       " 0.011294404,\n",
       " 0.011173748,\n",
       " 0.011237472,\n",
       " 0.011227211,\n",
       " 0.011240133,\n",
       " 0.011238387,\n",
       " 0.011211367,\n",
       " 0.011219809,\n",
       " 0.011241931,\n",
       " 0.011206753,\n",
       " 0.011219781,\n",
       " 0.011268344,\n",
       " 0.011216284,\n",
       " 0.011261892,\n",
       " 0.011181047,\n",
       " 0.011272081,\n",
       " 0.011203472,\n",
       " 0.011262687,\n",
       " 0.011225807,\n",
       " 0.011262177,\n",
       " 0.011248304,\n",
       " 0.011242168,\n",
       " 0.011201003,\n",
       " 0.011232967,\n",
       " 0.011227924,\n",
       " 0.011264614,\n",
       " 0.011181278,\n",
       " 0.011265718,\n",
       " 0.011213243,\n",
       " 0.011213904,\n",
       " 0.011214091,\n",
       " 0.011258017,\n",
       " 0.011179663,\n",
       " 0.011265424,\n",
       " 0.011160868,\n",
       " 0.011325672,\n",
       " 0.011127482,\n",
       " 0.011307836,\n",
       " 0.011189478,\n",
       " 0.011246113,\n",
       " 0.011191474,\n",
       " 0.011286493,\n",
       " 0.011164596,\n",
       " 0.011275447,\n",
       " 0.011201628,\n",
       " 0.011260876,\n",
       " 0.011211088,\n",
       " 0.01126284,\n",
       " 0.011184809,\n",
       " 0.011250779,\n",
       " 0.011194219,\n",
       " 0.011306246,\n",
       " 0.011133758,\n",
       " 0.011301258,\n",
       " 0.011141724,\n",
       " 0.011310309,\n",
       " 0.011169171,\n",
       " 0.011229008,\n",
       " 0.011252805,\n",
       " 0.011223229,\n",
       " 0.011249659,\n",
       " 0.01123256,\n",
       " 0.011198916,\n",
       " 0.011282148,\n",
       " 0.011192929,\n",
       " 0.011274677,\n",
       " 0.011196004,\n",
       " 0.0112755,\n",
       " 0.011171693,\n",
       " 0.011284361,\n",
       " 0.011189265,\n",
       " 0.01128492,\n",
       " 0.01119492,\n",
       " 0.011255745,\n",
       " 0.011201719,\n",
       " 0.011266177,\n",
       " 0.011156791,\n",
       " 0.011312378,\n",
       " 0.011169665,\n",
       " 0.011288106,\n",
       " 0.01115958,\n",
       " 0.011294508,\n",
       " 0.011180825,\n",
       " 0.011257544,\n",
       " 0.011193119,\n",
       " 0.011279665,\n",
       " 0.011174738,\n",
       " 0.011273446,\n",
       " 0.011203988,\n",
       " 0.011253493,\n",
       " 0.011199256,\n",
       " 0.011238372,\n",
       " 0.01123678,\n",
       " 0.011214713]"
      ]
     },
     "execution_count": 51,
     "metadata": {},
     "output_type": "execute_result"
    },
    {
     "name": "stdout",
     "output_type": "stream",
     "text": [
      "time: 28.3 ms\n"
     ]
    }
   ],
   "source": [
    "y"
   ]
  },
  {
   "cell_type": "code",
   "execution_count": 1,
   "metadata": {
    "collapsed": false
   },
   "outputs": [
    {
     "name": "stdout",
     "output_type": "stream",
     "text": [
      "0 3\n",
      "1 4\n",
      "2 5\n"
     ]
    }
   ],
   "source": [
    "l = [3, 4, 5]\n",
    "for i,j in enumerate(l):\n",
    "    print(i,j)"
   ]
  },
  {
   "cell_type": "code",
   "execution_count": 53,
   "metadata": {
    "collapsed": false
   },
   "outputs": [
    {
     "data": {
      "text/html": [
       "<div>\n",
       "<table border=\"1\" class=\"dataframe\">\n",
       "  <thead>\n",
       "    <tr style=\"text-align: right;\">\n",
       "      <th></th>\n",
       "      <th>A</th>\n",
       "    </tr>\n",
       "  </thead>\n",
       "  <tbody>\n",
       "    <tr>\n",
       "      <th>0</th>\n",
       "      <td>1.414216</td>\n",
       "    </tr>\n",
       "    <tr>\n",
       "      <th>1</th>\n",
       "      <td>1.414200</td>\n",
       "    </tr>\n",
       "    <tr>\n",
       "      <th>2</th>\n",
       "      <td>1.414185</td>\n",
       "    </tr>\n",
       "    <tr>\n",
       "      <th>3</th>\n",
       "      <td>1.414169</td>\n",
       "    </tr>\n",
       "    <tr>\n",
       "      <th>4</th>\n",
       "      <td>1.414154</td>\n",
       "    </tr>\n",
       "    <tr>\n",
       "      <th>5</th>\n",
       "      <td>1.414137</td>\n",
       "    </tr>\n",
       "    <tr>\n",
       "      <th>6</th>\n",
       "      <td>1.414120</td>\n",
       "    </tr>\n",
       "    <tr>\n",
       "      <th>7</th>\n",
       "      <td>1.414099</td>\n",
       "    </tr>\n",
       "    <tr>\n",
       "      <th>8</th>\n",
       "      <td>1.414078</td>\n",
       "    </tr>\n",
       "    <tr>\n",
       "      <th>9</th>\n",
       "      <td>1.414056</td>\n",
       "    </tr>\n",
       "    <tr>\n",
       "      <th>10</th>\n",
       "      <td>1.414028</td>\n",
       "    </tr>\n",
       "    <tr>\n",
       "      <th>11</th>\n",
       "      <td>1.413998</td>\n",
       "    </tr>\n",
       "    <tr>\n",
       "      <th>12</th>\n",
       "      <td>1.413965</td>\n",
       "    </tr>\n",
       "    <tr>\n",
       "      <th>13</th>\n",
       "      <td>1.413925</td>\n",
       "    </tr>\n",
       "    <tr>\n",
       "      <th>14</th>\n",
       "      <td>1.413883</td>\n",
       "    </tr>\n",
       "    <tr>\n",
       "      <th>15</th>\n",
       "      <td>1.413837</td>\n",
       "    </tr>\n",
       "    <tr>\n",
       "      <th>16</th>\n",
       "      <td>1.413786</td>\n",
       "    </tr>\n",
       "    <tr>\n",
       "      <th>17</th>\n",
       "      <td>1.413728</td>\n",
       "    </tr>\n",
       "    <tr>\n",
       "      <th>18</th>\n",
       "      <td>1.413666</td>\n",
       "    </tr>\n",
       "    <tr>\n",
       "      <th>19</th>\n",
       "      <td>1.413600</td>\n",
       "    </tr>\n",
       "    <tr>\n",
       "      <th>20</th>\n",
       "      <td>1.413526</td>\n",
       "    </tr>\n",
       "    <tr>\n",
       "      <th>21</th>\n",
       "      <td>1.413447</td>\n",
       "    </tr>\n",
       "    <tr>\n",
       "      <th>22</th>\n",
       "      <td>1.413363</td>\n",
       "    </tr>\n",
       "    <tr>\n",
       "      <th>23</th>\n",
       "      <td>1.413272</td>\n",
       "    </tr>\n",
       "    <tr>\n",
       "      <th>24</th>\n",
       "      <td>1.413177</td>\n",
       "    </tr>\n",
       "    <tr>\n",
       "      <th>25</th>\n",
       "      <td>1.413075</td>\n",
       "    </tr>\n",
       "    <tr>\n",
       "      <th>26</th>\n",
       "      <td>1.412967</td>\n",
       "    </tr>\n",
       "    <tr>\n",
       "      <th>27</th>\n",
       "      <td>1.412853</td>\n",
       "    </tr>\n",
       "    <tr>\n",
       "      <th>28</th>\n",
       "      <td>1.412737</td>\n",
       "    </tr>\n",
       "    <tr>\n",
       "      <th>29</th>\n",
       "      <td>1.412612</td>\n",
       "    </tr>\n",
       "    <tr>\n",
       "      <th>...</th>\n",
       "      <td>...</td>\n",
       "    </tr>\n",
       "    <tr>\n",
       "      <th>598</th>\n",
       "      <td>1.398383</td>\n",
       "    </tr>\n",
       "    <tr>\n",
       "      <th>599</th>\n",
       "      <td>1.398269</td>\n",
       "    </tr>\n",
       "    <tr>\n",
       "      <th>600</th>\n",
       "      <td>1.398380</td>\n",
       "    </tr>\n",
       "    <tr>\n",
       "      <th>601</th>\n",
       "      <td>1.398267</td>\n",
       "    </tr>\n",
       "    <tr>\n",
       "      <th>602</th>\n",
       "      <td>1.398415</td>\n",
       "    </tr>\n",
       "    <tr>\n",
       "      <th>603</th>\n",
       "      <td>1.398254</td>\n",
       "    </tr>\n",
       "    <tr>\n",
       "      <th>604</th>\n",
       "      <td>1.398390</td>\n",
       "    </tr>\n",
       "    <tr>\n",
       "      <th>605</th>\n",
       "      <td>1.398254</td>\n",
       "    </tr>\n",
       "    <tr>\n",
       "      <th>606</th>\n",
       "      <td>1.398382</td>\n",
       "    </tr>\n",
       "    <tr>\n",
       "      <th>607</th>\n",
       "      <td>1.398296</td>\n",
       "    </tr>\n",
       "    <tr>\n",
       "      <th>608</th>\n",
       "      <td>1.398371</td>\n",
       "    </tr>\n",
       "    <tr>\n",
       "      <th>609</th>\n",
       "      <td>1.398282</td>\n",
       "    </tr>\n",
       "    <tr>\n",
       "      <th>610</th>\n",
       "      <td>1.398435</td>\n",
       "    </tr>\n",
       "    <tr>\n",
       "      <th>611</th>\n",
       "      <td>1.398216</td>\n",
       "    </tr>\n",
       "    <tr>\n",
       "      <th>612</th>\n",
       "      <td>1.398417</td>\n",
       "    </tr>\n",
       "    <tr>\n",
       "      <th>613</th>\n",
       "      <td>1.398250</td>\n",
       "    </tr>\n",
       "    <tr>\n",
       "      <th>614</th>\n",
       "      <td>1.398431</td>\n",
       "    </tr>\n",
       "    <tr>\n",
       "      <th>615</th>\n",
       "      <td>1.398242</td>\n",
       "    </tr>\n",
       "    <tr>\n",
       "      <th>616</th>\n",
       "      <td>1.398401</td>\n",
       "    </tr>\n",
       "    <tr>\n",
       "      <th>617</th>\n",
       "      <td>1.398293</td>\n",
       "    </tr>\n",
       "    <tr>\n",
       "      <th>618</th>\n",
       "      <td>1.398385</td>\n",
       "    </tr>\n",
       "    <tr>\n",
       "      <th>619</th>\n",
       "      <td>1.398262</td>\n",
       "    </tr>\n",
       "    <tr>\n",
       "      <th>620</th>\n",
       "      <td>1.398410</td>\n",
       "    </tr>\n",
       "    <tr>\n",
       "      <th>621</th>\n",
       "      <td>1.398271</td>\n",
       "    </tr>\n",
       "    <tr>\n",
       "      <th>622</th>\n",
       "      <td>1.398368</td>\n",
       "    </tr>\n",
       "    <tr>\n",
       "      <th>623</th>\n",
       "      <td>1.398299</td>\n",
       "    </tr>\n",
       "    <tr>\n",
       "      <th>624</th>\n",
       "      <td>1.398375</td>\n",
       "    </tr>\n",
       "    <tr>\n",
       "      <th>625</th>\n",
       "      <td>1.398321</td>\n",
       "    </tr>\n",
       "    <tr>\n",
       "      <th>626</th>\n",
       "      <td>1.398322</td>\n",
       "    </tr>\n",
       "    <tr>\n",
       "      <th>627</th>\n",
       "      <td>1.398354</td>\n",
       "    </tr>\n",
       "  </tbody>\n",
       "</table>\n",
       "<p>628 rows × 1 columns</p>\n",
       "</div>"
      ],
      "text/plain": [
       "            A\n",
       "0    1.414216\n",
       "1    1.414200\n",
       "2    1.414185\n",
       "3    1.414169\n",
       "4    1.414154\n",
       "5    1.414137\n",
       "6    1.414120\n",
       "7    1.414099\n",
       "8    1.414078\n",
       "9    1.414056\n",
       "10   1.414028\n",
       "11   1.413998\n",
       "12   1.413965\n",
       "13   1.413925\n",
       "14   1.413883\n",
       "15   1.413837\n",
       "16   1.413786\n",
       "17   1.413728\n",
       "18   1.413666\n",
       "19   1.413600\n",
       "20   1.413526\n",
       "21   1.413447\n",
       "22   1.413363\n",
       "23   1.413272\n",
       "24   1.413177\n",
       "25   1.413075\n",
       "26   1.412967\n",
       "27   1.412853\n",
       "28   1.412737\n",
       "29   1.412612\n",
       "..        ...\n",
       "598  1.398383\n",
       "599  1.398269\n",
       "600  1.398380\n",
       "601  1.398267\n",
       "602  1.398415\n",
       "603  1.398254\n",
       "604  1.398390\n",
       "605  1.398254\n",
       "606  1.398382\n",
       "607  1.398296\n",
       "608  1.398371\n",
       "609  1.398282\n",
       "610  1.398435\n",
       "611  1.398216\n",
       "612  1.398417\n",
       "613  1.398250\n",
       "614  1.398431\n",
       "615  1.398242\n",
       "616  1.398401\n",
       "617  1.398293\n",
       "618  1.398385\n",
       "619  1.398262\n",
       "620  1.398410\n",
       "621  1.398271\n",
       "622  1.398368\n",
       "623  1.398299\n",
       "624  1.398375\n",
       "625  1.398321\n",
       "626  1.398322\n",
       "627  1.398354\n",
       "\n",
       "[628 rows x 1 columns]"
      ]
     },
     "execution_count": 53,
     "metadata": {},
     "output_type": "execute_result"
    },
    {
     "name": "stdout",
     "output_type": "stream",
     "text": [
      "time: 31.2 ms\n"
     ]
    }
   ],
   "source": [
    "d_distance"
   ]
  },
  {
   "cell_type": "code",
   "execution_count": 130,
   "metadata": {
    "collapsed": false
   },
   "outputs": [
    {
     "data": {
      "text/plain": [
       "array([[ 0.17984203,  0.2443496 ,  0.76248284,  0.44477008],\n",
       "       [ 0.10963578,  0.59599603,  0.76956576,  0.9440511 ],\n",
       "       [ 0.28078194,  0.42470612,  0.0176243 ,  0.84524506]])"
      ]
     },
     "execution_count": 130,
     "metadata": {},
     "output_type": "execute_result"
    },
    {
     "name": "stdout",
     "output_type": "stream",
     "text": [
      "time: 54.9 ms\n"
     ]
    }
   ],
   "source": [
    "np.random.uniform(0, 1, [3, 4])"
   ]
  },
  {
   "cell_type": "code",
   "execution_count": 166,
   "metadata": {
    "collapsed": false
   },
   "outputs": [
    {
     "name": "stdout",
     "output_type": "stream",
     "text": [
      "[[2]]\n",
      "[[3]]\n",
      "time: 190 ms\n"
     ]
    }
   ],
   "source": [
    "def init_v(v):\n",
    "    u = tf.constant(v)\n",
    "    W = tf.constant([[0], [1]])\n",
    "    g = tf.matmul(u, W)\n",
    "    return g\n",
    "\n",
    "with tf.Session() as sess:\n",
    "    print(sess.run(init_v([[1, 2]])))\n",
    "    print(sess.run(init_v([[2, 3]])))"
   ]
  },
  {
   "cell_type": "code",
   "execution_count": null,
   "metadata": {
    "collapsed": true
   },
   "outputs": [],
   "source": []
  }
 ],
 "metadata": {
  "anaconda-cloud": {},
  "kernelspec": {
   "display_name": "Python [Root]",
   "language": "python",
   "name": "Python [Root]"
  },
  "language_info": {
   "codemirror_mode": {
    "name": "ipython",
    "version": 3
   },
   "file_extension": ".py",
   "mimetype": "text/x-python",
   "name": "python",
   "nbconvert_exporter": "python",
   "pygments_lexer": "ipython3",
   "version": "3.5.2"
  }
 },
 "nbformat": 4,
 "nbformat_minor": 2
}
