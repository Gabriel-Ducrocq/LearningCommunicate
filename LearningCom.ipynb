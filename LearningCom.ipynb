{
 "cells": [
  {
   "cell_type": "code",
   "execution_count": 101,
   "metadata": {
    "collapsed": false
   },
   "outputs": [
    {
     "name": "stdout",
     "output_type": "stream",
     "text": [
      "The autotime extension is already loaded. To reload it, use:\n",
      "  %reload_ext autotime\n",
      "time: 8.64 ms\n"
     ]
    }
   ],
   "source": [
    "import tensorflow as tf\n",
    "import numpy as np\n",
    "from bptt import BPTT\n",
    "import matplotlib.pyplot as plt\n",
    "%load_ext autotime\n",
    "%matplotlib inline "
   ]
  },
  {
   "cell_type": "code",
   "execution_count": 4,
   "metadata": {
    "collapsed": false
   },
   "outputs": [
    {
     "name": "stdout",
     "output_type": "stream",
     "text": [
      "time: 875 µs\n"
     ]
    }
   ],
   "source": [
    "tf.reset_default_graph()"
   ]
  },
  {
   "cell_type": "code",
   "execution_count": 5,
   "metadata": {
    "collapsed": false
   },
   "outputs": [
    {
     "name": "stdout",
     "output_type": "stream",
     "text": [
      "time: 36.3 ms\n"
     ]
    }
   ],
   "source": [
    "class PhysicalNet: \n",
    "    \n",
    "    def __init__(self, layer_sizes, input_size, first_input, output_size, keep_prob = 0.9, stddev = 0.001):\n",
    "        self.nb_layers = len(layer_sizes)\n",
    "        self.layer_sizes = layer_sizes\n",
    "        self.input_size = input_size\n",
    "        self.output_size = output_size\n",
    "        self.first_input = first_input\n",
    "        self.stddev = stddev\n",
    "        \n",
    "        self.Weights = []\n",
    "        self.Biases = []\n",
    "        self.intermediate_outputs = [self.first_input]\n",
    "        \n",
    "        self.init_weights()\n",
    "        self.init_biases()\n",
    "        self.define_inter_outputs()\n",
    "        \n",
    "    def init_weights(self):\n",
    "        for i in range(self.nb_layers):\n",
    "            if i == 0:\n",
    "                W = tf.Variable(tf.random_normal([self.layer_sizes[i], self.input_size], stddev = self.stddev))\n",
    "            elif i != (self.nb_layers - 1):\n",
    "                W = tf.Variable(tf.random_normal([self.layer_sizes[(i+1)], self.layer_sizes[i]], stddev = self.stddev))\n",
    "            else:\n",
    "                W = tf.Variable(tf.random_normal([self.output_size, self.layer_sizes[i]], stddev = self.stddev))\n",
    "                \n",
    "            self.Weights.append(W)\n",
    "            \n",
    "    def init_biases(self):\n",
    "        for i in range(self.nb_layers):\n",
    "            B = tf.Variable(tf.random_normal([self.layer_sizes[i], 1], stddev = self.stddev))\n",
    "            self.Biases.append(B)\n",
    "            \n",
    "    def define_inter_outputs(self): ## ADD THE DROPOUTS !!!\n",
    "        for i in range(self.nb_layers):\n",
    "            W = self.Weights[i]\n",
    "            b = self.Biases[i]\n",
    "            x = self.intermediate_outputs[i]\n",
    "            if i != (self.nb_layers - 1):\n",
    "                o = tf.nn.dropout(tf.nn.elu(tf.matmul(W, x) + b), keep_prob = 0.9)\n",
    "            else:\n",
    "                o = tf.nn.softmax(tf.matmul(W, x) + b)\n",
    "                \n",
    "            self.intermediate_outputs.append(o)\n",
    "            "
   ]
  },
  {
   "cell_type": "code",
   "execution_count": 6,
   "metadata": {
    "collapsed": false
   },
   "outputs": [
    {
     "name": "stdout",
     "output_type": "stream",
     "text": [
      "time: 51.3 ms\n"
     ]
    }
   ],
   "source": [
    "class CommunicationNet: ## ADD THE MEMORY !! \n",
    "    \n",
    "    def __init__(self, layer_sizes, input_size, first_input, memory, keep_prob = 0.9, memory_size = 32,\n",
    "                 stddev_epsilon = 0.35, output_size = 256, stddev = 0.0001):\n",
    "        self.nb_layers = len(layer_sizes)\n",
    "        self.layer_sizes = layer_sizes\n",
    "        self.input_size = input_size\n",
    "        self.memory_size = memory_size\n",
    "        self.stddev_epsilon = stddev_epsilon\n",
    "        self.output_size = output_size\n",
    "        self.first_input = first_input\n",
    "        self.stddev = stddev\n",
    "        \n",
    "        self.Weights = []\n",
    "        self.Biases = []\n",
    "        self.Weight_read_mem = tf.Variable(tf.random_normal([self.layer_sizes[(self.nb_layers-1)], self.memory_size]\n",
    "                                                            ,stddev = self.stddev))\n",
    "        self.intermediate_outputs = [first_input]\n",
    "        self.memory = memory\n",
    "        \n",
    "        self.init_weights()    \n",
    "        self.init_biases()\n",
    "        self.define_inter_outputs()\n",
    "        self.def_delta_mem()\n",
    "        \n",
    "        \n",
    "    def init_weights(self):\n",
    "        for i in range(self.nb_layers):\n",
    "            if i == 0:\n",
    "                W = tf.Variable(tf.random_normal([self.layer_sizes[i], self.input_size], stddev = self.stddev))\n",
    "            elif i != (self.nb_layers - 1):\n",
    "                W = tf.Variable(tf.random_normal([self.layer_sizes[(i+1)], self.layer_sizes[i]],stddev = self.stddev))\n",
    "            else:\n",
    "                W = tf.Variable(tf.random_normal([self.output_size, self.layer_sizes[i]],stddev = self.stddev))\n",
    "            self.Weights.append(W)\n",
    "            \n",
    "    def init_biases(self):\n",
    "        for i in range(self.nb_layers):\n",
    "            B = tf.Variable(tf.random_normal([self.layer_sizes[i], 1],stddev = self.stddev))\n",
    "            self.Biases.append(B)\n",
    "            \n",
    "    def define_inter_outputs(self): ## ADD THE DROPOUTS !!!\n",
    "        for i in range(self.nb_layers):\n",
    "            W = self.Weights[i]\n",
    "            b = self.Biases[i]\n",
    "            x = self.intermediate_outputs[i]\n",
    "            if i != (self.nb_layers - 1):\n",
    "                o = tf.nn.dropout(tf.nn.elu(tf.matmul(W, x) + b), keep_prob = 0.9)\n",
    "            else:\n",
    "                o = tf.nn.softmax(tf.matmul(W, x) + tf.matmul(self.Weight_read_mem, self.memory) + b)\n",
    "                \n",
    "            self.intermediate_outputs.append(o)\n",
    "        \n",
    "    def def_delta_mem(self):\n",
    "        self.W_mem = tf.Variable(tf.random_normal(shape =[self.memory_size,self.output_size],stddev = self.stddev))\n",
    "        self.b_mem = tf.Variable(tf.random_normal(shape = [self.memory_size, 1],stddev = self.stddev))\n",
    "        self.output_mem = tf.add(tf.matmul(self.W_mem, self.intermediate_outputs[-1]),self.b_mem)\n",
    "        "
   ]
  },
  {
   "cell_type": "code",
   "execution_count": 7,
   "metadata": {
    "collapsed": false
   },
   "outputs": [
    {
     "name": "stdout",
     "output_type": "stream",
     "text": [
      "time: 61.3 ms\n"
     ]
    }
   ],
   "source": [
    "class LastNet: ## ADD THE MEMORY !! The memory initialization is random ==> set it 0\n",
    "    \n",
    "    def __init__(self, layer_sizes, input_size, first_input, memory, keep_prob = 0.9, memory_size = 32, \n",
    "                 stddev_epsilon = 0.35, output_size = 24, stddev = 0.0001):\n",
    "        self.nb_layers = len(layer_sizes)\n",
    "        self.layer_sizes = layer_sizes\n",
    "        self.input_size = input_size\n",
    "        self.memory_size = memory_size\n",
    "        self.stddev_epsilon = stddev_epsilon\n",
    "        self.output_size = output_size\n",
    "        self.first_input = first_input\n",
    "        self.stddev = stddev\n",
    "        \n",
    "        self.Weights = []\n",
    "        self.Biases = []\n",
    "        self.Weight_read_mem = tf.Variable(tf.random_normal([self.output_size, self.memory_size],stddev = self.stddev))\n",
    "        self.intermediate_outputs = [self.first_input]\n",
    "        self.memory = memory\n",
    "        \n",
    "        self.init_weights()    \n",
    "        self.init_biases()\n",
    "        self.define_inter_outputs()\n",
    "        self.def_delta_mem()\n",
    "        \n",
    "        \n",
    "    def init_weights(self):\n",
    "        for i in range(self.nb_layers):\n",
    "            if i == 0:\n",
    "                W = tf.Variable(tf.random_normal([self.layer_sizes[i], self.input_size],stddev = self.stddev))\n",
    "            elif i != (self.nb_layers - 1):\n",
    "                W = tf.Variable(tf.random_normal([self.layer_sizes[(i+1)], self.layer_sizes[i]],stddev = self.stddev))\n",
    "            else:\n",
    "                W = tf.Variable(tf.random_normal([self.output_size, self.layer_sizes[i]],stddev = self.stddev))\n",
    "            self.Weights.append(W)\n",
    "            \n",
    "    def init_biases(self):\n",
    "        for i in range(self.nb_layers):\n",
    "            if i != (self.nb_layers - 1):\n",
    "                B = tf.Variable(tf.random_normal([self.layer_sizes[i+1], 1],stddev = self.stddev))\n",
    "            else:\n",
    "                B = tf.Variable(tf.random_normal([self.output_size, 1], stddev = self.stddev))\n",
    "                \n",
    "            self.Biases.append(B)\n",
    "            \n",
    "    def define_inter_outputs(self): ## ADD THE DROPOUTS !!! REMOVE THE SOFTMAX OF THE LAST LAYER !!!\n",
    "        for i in range(self.nb_layers):\n",
    "            W = self.Weights[i]\n",
    "            b = self.Biases[i]\n",
    "            x = self.intermediate_outputs[i]\n",
    "            if i != (self.nb_layers - 1):\n",
    "                o = tf.nn.dropout(tf.nn.elu(tf.matmul(W, x) + b), keep_prob = 0.9)\n",
    "            else:\n",
    "                o = tf.matmul(W, x) + tf.matmul(self.Weight_read_mem, self.memory) + b\n",
    "                \n",
    "            self.intermediate_outputs.append(o)\n",
    "        \n",
    "    def def_delta_mem(self):\n",
    "        self.W_mem = tf.Variable(tf.random_normal(shape =[self.memory_size,self.output_size],stddev = self.stddev))\n",
    "        self.b_mem = tf.Variable(tf.random_normal(shape = [self.memory_size, 1],stddev = self.stddev))\n",
    "        self.output_mem = tf.add(tf.matmul(self.W_mem, self.intermediate_outputs[-1]),self.b_mem)\n",
    "        \n",
    "    def get_output(self):\n",
    "        return self.intermediate_outputs[-1]\n",
    "        "
   ]
  },
  {
   "cell_type": "code",
   "execution_count": 8,
   "metadata": {
    "collapsed": false
   },
   "outputs": [
    {
     "name": "stdout",
     "output_type": "stream",
     "text": [
      "time: 26.4 ms\n"
     ]
    }
   ],
   "source": [
    "class Policy_Phys:\n",
    "    \n",
    "    def __init__(self, nb_agent, nb_landmark, list_phys_tensors, hidden_layer_size = 256, env_dim = 2, \n",
    "                 batch_size = 1024, stddev_phys_output = 0.0001):\n",
    "        self.stddev_phys_output = stddev_phys_output\n",
    "        self.batch_size = batch_size\n",
    "        self.env_dim = env_dim\n",
    "        self.nb_agent = nb_agent\n",
    "        self.nb_landmark = nb_landmark\n",
    "        self.hidden_layer_size = hidden_layer_size\n",
    "\n",
    "        self.phys_tensors = list_phys_tensors\n",
    "        self.networks_phys = []\n",
    "        self.PhiX = None\n",
    "        \n",
    "        self.init_all()\n",
    "        \n",
    "    def init_phys_modules(self):\n",
    "        with tf.variable_scope(\"physical\") as scope:\n",
    "            self.networks_phys.append(PhysicalNet([self.hidden_layer_size, self.hidden_layer_size], self.env_dim, \n",
    "                                                  self.phys_tensors[0],\n",
    "                                                 self.hidden_layer_size))\n",
    "        for i in range(1, (self.nb_agent + self.nb_landmark)):\n",
    "            with tf.variable_scope(\"physical\", reuse = True):\n",
    "                self.networks_phys.append(PhysicalNet([self.hidden_layer_size, self.hidden_layer_size], self.env_dim,\n",
    "                                                      self.phys_tensors[i],\n",
    "                                                     self.hidden_layer_size))\n",
    "\n",
    "    def init_PhiX(self):\n",
    "        list_outputs = []\n",
    "        for net in self.networks_phys:\n",
    "            list_outputs.append(tf.reshape(net.intermediate_outputs[-1], [256, -1, 1]))\n",
    "\n",
    "        all_phys_output = tf.concat(list_outputs, axis = 2)\n",
    "        self.PhiX = tf.reduce_max(tf.nn.softmax(all_phys_output, dim = -1), axis = 2)\n",
    "\n",
    "    def init_all(self):\n",
    "        self.init_phys_modules()\n",
    "        self.init_PhiX()\n",
    "\n",
    "\n",
    "\n",
    "\n",
    "\n"
   ]
  },
  {
   "cell_type": "code",
   "execution_count": 9,
   "metadata": {
    "collapsed": false
   },
   "outputs": [
    {
     "name": "stdout",
     "output_type": "stream",
     "text": [
      "time: 37.1 ms\n"
     ]
    }
   ],
   "source": [
    "class Policy_Utterance:\n",
    "    \n",
    "    def __init__(self, nb_agent, list_utter_tensors, list_mem_tensors, goal_size, vocabulary_size = 20, \n",
    "                 hidden_layer_size = 256, memory_size = 32, temperature = 1, batch_size = 1024,\n",
    "                 stddev_phys_output = 0.0001):\n",
    "        self.size_goal = goal_size\n",
    "        self.nb_agent = nb_agent\n",
    "        self.stddev_phys_output = stddev_phys_output\n",
    "        self.batch_size = batch_size\n",
    "        self.temperature = temperature\n",
    "        self.memory_size = memory_size\n",
    "        self.vocabulary_size = vocabulary_size\n",
    "        self.hidden_layer_size = hidden_layer_size\n",
    "        self.goal = tf.placeholder(tf.float32, [self.size_goal, None])\n",
    "        self.memory_last = tf.placeholder(tf.float32, [self.memory_size, None])\n",
    "        \n",
    "        self.com_tensors = list_utter_tensors\n",
    "        self.mem_tensors = list_mem_tensors\n",
    "        self.delta_mem = []\n",
    "        self.networks_com = []\n",
    "\n",
    "        self.PhiC = None\n",
    "        self.init_all()\n",
    "        \n",
    "\n",
    "    def init_com_modules(self):## Les poids seront les mêmes pour tous les agents\n",
    "        with tf.variable_scope(\"communication\") as scope:\n",
    "            self.networks_com.append(CommunicationNet([self.hidden_layer_size, self.hidden_layer_size], \n",
    "                                                 self.vocabulary_size, self.com_tensors[0], \n",
    "                                                      self.mem_tensors[0]))\n",
    "        for i in range(1, self.nb_agent):\n",
    "            with tf.variable_scope(\"communication\", reuse=True):\n",
    "                self.networks_com.append(CommunicationNet([self.hidden_layer_size, self.hidden_layer_size], \n",
    "                                                 self.vocabulary_size,self.com_tensors[i],\n",
    "                                                          self.mem_tensors[i]))\n",
    "\n",
    "    def init_delta_mem_tensors(self):\n",
    "        for i in range(self.nb_agent):\n",
    "            self.delta_mem.append(self.networks_com[i].output_mem)\n",
    "            \n",
    "    def init_PhiC(self):\n",
    "        list_outputs = []\n",
    "        for net in self.networks_com:\n",
    "            list_outputs.append(tf.reshape(net.intermediate_outputs[-1], [256, -1, 1]))\n",
    "\n",
    "        all_comm_output = tf.concat(list_outputs, axis = 2)\n",
    "        self.PhiC = tf.reduce_max(tf.nn.softmax(all_comm_output, dim = -1), axis = 2) \n",
    "\n",
    "    def init_all(self):\n",
    "        self.init_com_modules()\n",
    "        self.init_delta_mem_tensors()\n",
    "        self.init_PhiC()\n"
   ]
  },
  {
   "cell_type": "code",
   "execution_count": 10,
   "metadata": {
    "collapsed": false
   },
   "outputs": [
    {
     "name": "stdout",
     "output_type": "stream",
     "text": [
      "time: 50.5 ms\n"
     ]
    }
   ],
   "source": [
    "class Policy_Last:\n",
    "    \n",
    "    def __init__(self, PhiX, PhiC, goal, memory, hidden_layer_size = 256, \n",
    "                 size_goal = 8, memory_size = 32, batch_size = 1024, stddev_phys_output = 0.0001, vocabulary_size = 20,\n",
    "                env_dim = 2, temperature = 1):\n",
    "        self.temperature = temperature\n",
    "        self.stddev_phys_output = stddev_phys_output\n",
    "        self.env_dim = env_dim\n",
    "        self.vocabulary_size = vocabulary_size \n",
    "        self.batch_size = batch_size\n",
    "        self.memory_size = memory_size\n",
    "        self.hidden_layer_size = hidden_layer_size\n",
    "        self.size_goal = size_goal\n",
    "        self.goal = goal\n",
    "        self.memory_last = memory\n",
    "        self.Phi = None \n",
    "        self.PhiX = PhiX\n",
    "        self.PhiC = PhiC \n",
    "        self.delta_mem = []\n",
    "        self.init_all()\n",
    "\n",
    "    def init_Phi(self):\n",
    "        self.Phi = tf.concat([self.PhiC, self.goal, self.PhiX], axis = 0)\n",
    "\n",
    "    def init_last_module(self):\n",
    "        inp_size = (2*self.hidden_layer_size + self.size_goal)\n",
    "        out_size = self.vocabulary_size + 2*self.env_dim\n",
    "        self.last_net = LastNet([256, 256], inp_size, self.Phi, self.memory_last, output_size = out_size)\n",
    "        \n",
    "    def init_output(self):\n",
    "        self.output = self.last_net.get_output()\n",
    "\n",
    "    def init_all(self):\n",
    "        self.init_Phi()\n",
    "        self.init_last_module()\n",
    "        self.init_output()\n",
    "        self.init_sample_utterances()\n",
    "        self.init_sample_phys()\n",
    "        self.init_delta_mem_tensors()\n",
    "\n",
    "    def init_sample_utterances(self):## Vérifier qu'on prend un bon slice sur l'output\n",
    "        u = -tf.log(-tf.log(tf.random_uniform(shape = [self.vocabulary_size, self.batch_size],dtype=tf.float32)))\n",
    "        utterance_output = tf.slice(self.output, [2*self.env_dim, 0], [self.vocabulary_size, self.batch_size])\n",
    "        gumbel = tf.exp((utterance_output + u)/self.temperature)\n",
    "        denoms = tf.reduce_sum(gumbel, axis = 0)\n",
    "        self.utterance = gumbel/denoms  \n",
    "        \n",
    "    def init_sample_phys(self):\n",
    "        u = tf.random_normal(shape = [2*self.env_dim, self.batch_size],dtype=tf.float32, stddev = self.stddev_phys_output)\n",
    "        self.output = tf.add(tf.slice(self.output, [0, 0], [2*self.env_dim, self.batch_size]), u)\n",
    "        self.sample_move = tf.slice(self.output, [0, 0], [self.env_dim, self.batch_size])\n",
    "        self.sample_gaze  = tf.slice(self.output, [self.env_dim, 0], [self.env_dim, self.batch_size])\n",
    "\n",
    "    def init_delta_mem_tensors(self):\n",
    "        self.delta_mem.append(self.last_net.output_mem)\n",
    "            \n",
    "    \n"
   ]
  },
  {
   "cell_type": "code",
   "execution_count": 11,
   "metadata": {
    "collapsed": false
   },
   "outputs": [
    {
     "name": "stdout",
     "output_type": "stream",
     "text": [
      "time: 31.4 ms\n"
     ]
    }
   ],
   "source": [
    "class Policy:# Two memories per Agent: one for the communication module, the other one for the last module. Is it correct ?\n",
    "\n",
    "    def __init__(self,nb_agent, nb_landmark, list_phys_tensors, list_utter_tensors, list_mem_tensors, \n",
    "                 list_mem_tensors_last, list_goal_tensors, goal_size, vocabulary_size = 20, hidden_layer_size = 256, \n",
    "                 memory_size = 32, temperature = 1, batch_size = 1024, stddev_phys_output = 0.01, env_dim = 2):\n",
    "        self.nb_agent = nb_agent\n",
    "        self.goal_size = goal_size\n",
    "        self.nb_landmark = nb_landmark\n",
    "        self.list_phys_tensors =  list_phys_tensors\n",
    "        self.list_utter_tensors = list_utter_tensors\n",
    "        self.list_mem_tensors = list_mem_tensors\n",
    "        self.list_goal_tensors = list_goal_tensors\n",
    "        \n",
    "        self.phys_module = Policy_Phys(self.nb_agent, self.nb_landmark, self.list_phys_tensors)\n",
    "        self.utterance_module = Policy_Utterance(self.nb_agent, self.list_utter_tensors, self.list_mem_tensors, \n",
    "                                                 self.goal_size)\n",
    "        \n",
    "        self.list_last_nets = []\n",
    "        self.list_utterance = []\n",
    "        self.list_move = []\n",
    "        self.list_gaze = []\n",
    "        \n",
    "        self.list_delta_mem_comm = self.utterance_module.delta_mem\n",
    "        self.list_delta_mem_last = []\n",
    "        self.list_outputs = []\n",
    "        \n",
    "        self.init_all()\n",
    "        \n",
    "    def init_last_nets(self):### KEEP THE SAME SCOPE IN ORDER TO SHARE THE WEIGHTS !\n",
    "        for i in range(self.nb_agent):\n",
    "            with tf.variable_scope(\"last_net\", reuse = (i!=0)):\n",
    "                self.list_last_nets.append(Policy_Last(self.phys_module.PhiX, self.utterance_module.PhiC, \n",
    "                                                   self.list_goal_tensors[i], self.list_mem_tensors[i]))\n",
    "            \n",
    "            \n",
    "    def init_output_list(self):\n",
    "        for i in range(self.nb_agent):\n",
    "            self.list_utterance.append(self.list_last_nets[i].utterance)\n",
    "            self.list_move.append(self.list_last_nets[i].sample_move)\n",
    "            self.list_gaze.append(self.list_last_nets[i].sample_gaze)\n",
    "            self.list_delta_mem_last.append(self.list_last_nets[i].delta_mem)\n",
    "            \n",
    "    def init_all(self):\n",
    "        self.init_last_nets()\n",
    "        self.init_output_list()\n",
    "            \n",
    "            \n",
    "    "
   ]
  },
  {
   "cell_type": "code",
   "execution_count": 356,
   "metadata": {
    "collapsed": false
   },
   "outputs": [
    {
     "name": "stdout",
     "output_type": "stream",
     "text": [
      "time: 157 ms\n"
     ]
    }
   ],
   "source": [
    "class Agent:\n",
    "    \n",
    "    def __init__(self, name, name_target, bp, pos, v, gaze, goal_location, goal_type, col,\n",
    "                 vocabulary_size = 20, batch_size = 1024, env_dim = 2, goal_size = 8, \n",
    "                 memory_size = 32, time_delta = 0.1, nb_actions = 3, damping_coeff = 0.5):\n",
    "        self.damping_coeff = damping_coeff\n",
    "        self.goal_type = goal_type\n",
    "        self.nb_actions = nb_actions\n",
    "        self.name_target = name_target\n",
    "        self.time_delta = tf.constant([time_delta])\n",
    "        self.env_dim = env_dim\n",
    "        self.memory_size = memory_size\n",
    "        self.name = name\n",
    "        self.goal_size = goal_size\n",
    "        self.batch_size = batch_size\n",
    "        self.bp = bp\n",
    "        self.vocabulary_size = vocabulary_size\n",
    "        \n",
    "        self.pos = self.bp.get_past_variable(variable_name = \"pos_\" + str(self.name), starting_value = np.float32(pos)) \n",
    "        self.velocity = self.bp.get_past_variable(\"velocity_\" + str(self.name), np.float32(v)) \n",
    "        self.gaze = self.bp.get_past_variable(\"gaze_\" + str(self.name), np.float32(gaze))\n",
    "        self.utterance = self.bp.get_past_variable(\"utterance_\" + str(self.name), \n",
    "                                                   np.float32(np.zeros([self.vocabulary_size, self.batch_size])))\n",
    "        \n",
    "        self.memory = self.bp.get_past_variable(\"memory_\" + str(self.name), np.float32(np.zeros([self.memory_size, \n",
    "                                                                                         self.batch_size])))\n",
    "        \n",
    "        self.memory_last = self.bp.get_past_variable(\"memory_last_\" + str(self.name), np.float32(\n",
    "            np.zeros([self.memory_size, self.batch_size])))\n",
    "        \n",
    "        self.tensor_goal_location = tf.constant(goal_location, tf.float32)\n",
    "        self.tensor_goal_type = tf.constant(goal_type, tf.float32)\n",
    "        self.col = tf.constant(col, tf.float32)\n",
    "        \n",
    "    def take_step(self, list_positions, list_utterances, list_mem_comm, list_deltamem_comm, list_mem_last,\n",
    "              list_detlamem_last, goal, session):\n",
    "        feed_dict_all = self.create_feed_dict(list_positions, list_utterances, list_mem_comm, list_deltamem_comm, \n",
    "                list_mem_last, list_detlamem_last, goal)\n",
    "        return session.run([self.utterances, self.sample_move], feed_dict = feed_dict_all) \n",
    "\n",
    "    def get_move(self):\n",
    "        return self.p.sample_move\n",
    "    \n",
    "    def get_utterance(self):\n",
    "        return self.p.utterance\n",
    "    \n",
    "    def compute_reward_agent(self,tensor_agent_pos, tensor_agent_gaze): ## Modifier la norme u, il s'agit de l'output\n",
    "        #du réseau, non pas de la position !\n",
    "        r1 = tf.reshape(tf.square(tf.norm(tensor_agent_pos - self.tensor_goal_location, axis = 0)), [1, self.batch_size])\n",
    "        r2 = tf.reshape(tf.square(tf.norm(tensor_agent_gaze - self.tensor_goal_location, axis = 0)), [1, self.batch_size])\n",
    "        utt_norm = tf.square(tf.norm(self.new_utterance, axis = 0))\n",
    "        u_norm = tf.square(tf.norm(tf.concat([self.new_pos, self.new_gaze], axis = 0), axis = 0))\n",
    "        vec = tf.concat([r1, r2, tf.zeros([1,self.batch_size], tf.float32)], axis = 0)\n",
    "        v1 = tf.reduce_sum(tf.multiply(vec, self.tensor_goal_type), axis = 0)\n",
    "        r = -(v1 + utt_norm + u_norm)\n",
    "        return r\n",
    "            \n",
    "    def compute_new_state(self, tensor_utterance, tensor_velocity, tensor_gaze, tensor_memory_delta, \n",
    "                          tensor_memory_last):\n",
    "        ## ADD THE FORCES TO THE NEW VELOCITY !!\n",
    "        ## ADD GAUSSIAN NOISE TO THE MEMORY UPDATE !\n",
    "        self.new_pos = self.bp.name_variable(variable_name = \"pos_\" + str(self.name), \n",
    "                                        v = self.pos + tf.multiply(self.velocity,self.time_delta))\n",
    "        self.new_velocity = self.bp.name_variable(\"velocity_\" + str(self.name), \n",
    "                                        (tf.multiply(self.velocity, self.damping_coeff) + \n",
    "                                                  tf.multiply(tensor_velocity, self.time_delta)))\n",
    "        self.new_gaze = self.bp.name_variable(\"gaze_\" + str(self.name), tensor_gaze)\n",
    "        self.new_memory = self.bp.name_variable(\"memory_\" + str(self.name), self.memory + tensor_memory_delta)\n",
    "        self.new_memory_last = self.bp.name_variable(\"memory_last_\" + str(self.name), self.memory_last + tensor_memory_last)\n",
    "        self.new_utterance = self.bp.name_variable(\"utterance_\" + str(self.name), tensor_utterance)\n",
    "\n",
    "                                            \n",
    "    def get_position(self):\n",
    "        return self.pos\n",
    "    \n",
    "    def get_velocity(self):\n",
    "        return self.velocity\n",
    "    \n",
    "    def get_gaze(self):\n",
    "        return self.gaze\n",
    "\n",
    "    def get_utterance(self):\n",
    "        return self.utterance\n",
    "                                        \n",
    "    def get_memory(self):\n",
    "        return self.memory\n",
    "    \n",
    "    def get_memory_last(self):\n",
    "        return self.memory_last\n",
    "    \n",
    "    def get_phys_state(self):\n",
    "        return (self.get_position(), self.get_velocity(), self.get_gaze(), self.get_col)\n",
    "    \n",
    "    def get_name_target(self):\n",
    "        return self.name_target\n",
    "    \n",
    "    def get_goal(self, other_ags):\n",
    "        other_agents = [other_ags[i].get_color() for i in self.name_target[0, :]]\n",
    "        colors = tf.concat(other_agents, axis = 1)\n",
    "        return tf.concat([self.tensor_goal_type, self.tensor_goal_location, colors], axis = 0)\n",
    "          \n",
    "    def get_all_iterations_variables(self):\n",
    "        return self.pos, self.velocity, self.gaze, self.utterance, self.memory, self.memory_last\n",
    "    \n",
    "    def get_color(self):\n",
    "        return self.col\n"
   ]
  },
  {
   "cell_type": "code",
   "execution_count": 357,
   "metadata": {
    "collapsed": false
   },
   "outputs": [
    {
     "name": "stdout",
     "output_type": "stream",
     "text": [
      "time: 155 ms\n"
     ]
    }
   ],
   "source": [
    "class Environment:\n",
    "    # Use this class to instantiate an environment on N batches. All batches share the same structure, but not not the\n",
    "    # same goals.\n",
    "    def __init__(self, bp, nb_agents = 3, nb_landmarks = 0, env_dim = 2, batch_size = 1024, goal_type_size = 3):\n",
    "        self.env_dim = env_dim\n",
    "        self.batch_size = batch_size\n",
    "        self.goal_type_size = goal_type_size\n",
    "        self.goal_size = self.goal_type_size + 3 + self.env_dim\n",
    "        self.nb_agents = nb_agents\n",
    "        self.nb_landmarks = nb_landmarks\n",
    "        self.list_agents = []\n",
    "        self.list_phys_tensors = []\n",
    "        self.list_utter_tensors = []\n",
    "        self.list_mem_tensors = []\n",
    "        self.list_mem_last_tensors = []\n",
    "        self.list_goals_tensors = []\n",
    "        self.bp = bp\n",
    "        \n",
    "    def init_agents(self):\n",
    "        for i in range(self.nb_agents):\n",
    "            ag = Agent(name = i, name_target = self.name_of_targets[i], bp = self.bp, \n",
    "                       pos = self.p[i], v = self.v[i], gaze = self.g[i], goal_location = self.gl[i], \n",
    "                       goal_type = self.go[i], col = self.co[i])\n",
    "            self.list_agents.append(ag)\n",
    "            self.list_phys_tensors.append(ag.get_position())\n",
    "            self.list_utter_tensors.append(ag.get_utterance())\n",
    "            self.list_mem_tensors.append(ag.get_memory())\n",
    "            self.list_mem_last_tensors.append(ag.get_memory_last())\n",
    "            \n",
    "    def init_goals_tensors(self):\n",
    "        for ag in self.list_agents: \n",
    "            self.list_goals_tensors.append(ag.get_goal(self.list_agents))\n",
    "     \n",
    "    def init_policy(self):\n",
    "        self.policy = Policy(self.nb_agents, self.nb_landmarks, self.list_phys_tensors, self.list_utter_tensors, \n",
    "                            self.list_mem_tensors, self.list_mem_last_tensors, self.list_goals_tensors, self.goal_size)\n",
    "        \n",
    "    def init_new_agents_states(self):\n",
    "        for i in range(self.nb_agents):\n",
    "            ag = self.list_agents[i]\n",
    "            tens_utterance = self.policy.list_utterance[i]\n",
    "            tens_velocity = self.policy.list_move[i]\n",
    "            tens_gaze = self.policy.list_gaze[i]\n",
    "            tens_mem_delta = self.policy.list_delta_mem_comm[i]\n",
    "            tens_mem_delta_last = self.policy.list_delta_mem_last[i]\n",
    "            ag.compute_new_state(tens_utterance, tens_velocity, tens_gaze, tens_mem_delta, tens_mem_delta_last)\n",
    "         \n",
    "\n",
    "    def init_reward_agents(self): ## Check the shuffle for the pos of agent and gaze is OK !!\n",
    "        rewards = []\n",
    "        ag_positions = []\n",
    "        ag_gazes = []\n",
    "        ag_goal_on_agent = []\n",
    "        for agent in self.list_agents:\n",
    "            ag_positions.append(agent.get_position())\n",
    "            ag_gazes.append(agent.get_gaze())\n",
    "            \n",
    "        agent_positions = tf.stack(ag_positions, axis = 2)\n",
    "        agent_gazes = tf.stack(ag_gazes, axis = 2)\n",
    "        \n",
    "        for i in range(self.nb_agents):\n",
    "            rewards = []\n",
    "            agent = self.list_agents[i]\n",
    "            name_target = agent.get_name_target()\n",
    "            position_target = tf.reshape(tf.slice(agent_positions, [0, 0, i], [self.env_dim, self.batch_size, 1]), \n",
    "                                         [self.env_dim, self.batch_size])\n",
    "            \n",
    "            gaze_target = tf.reshape(tf.slice(agent_gazes, [0, 0, i], [self.env_dim, self.batch_size, 1]), \n",
    "                                         [self.env_dim, self.batch_size])\n",
    "            \n",
    "            reward_agent = agent.compute_reward_agent(position_target, gaze_target)\n",
    "            rewards.append(reward_agent)\n",
    "            \n",
    "            self.rewards_batch = tf.reduce_sum(tf.concat(rewards, axis = 0), axis = 0)\n",
    "                \n",
    "    def get_all_iteration_var(self):\n",
    "        return [tensor for ag in self.list_agents for tensor in ag.get_all_iterations_variables()]\n",
    "    \n",
    "    def get_reward_batch(self):\n",
    "        return self.rewards_batch\n",
    "    \n",
    "    def get_position_batch(self):\n",
    "        return [ag.new_pos for ag in self.list_agents]\n",
    "    \n",
    "    def random_env_init(self):\n",
    "        self.name_of_targets = []\n",
    "        self.p = []\n",
    "        self.v = []\n",
    "        self.g = []\n",
    "        self.go = []\n",
    "        self.co = []\n",
    "        self.gl = []\n",
    "        for i in range(self.nb_agents):\n",
    "            self.name_of_targets.append(np.random.randint(0, self.nb_agents, (1, self.batch_size)))\n",
    "            self.p.append(np.transpose(np.array([[0,0] for i in range(self.batch_size)])))\n",
    "            self.gl.append(np.transpose(np.array([[1,1] for i in range(self.batch_size)])))\n",
    "            self.v.append(np.zeros([self.env_dim, self.batch_size]))\n",
    "            self.g.append(np.zeros([self.env_dim, self.batch_size]))\n",
    "            self.go.append(np.transpose(np.array([[1,0, 0] for i in range(self.batch_size)])))\n",
    "            self.co.append(np.random.uniform(0, 255, [3, 1]))\n",
    "            \n",
    "        \n",
    "        self.init_agents()\n",
    "        self.init_goals_tensors()\n",
    "        self.init_policy()\n",
    "        self.init_new_agents_states()\n",
    "        self.init_reward_agents()    \n",
    "        \n",
    "        "
   ]
  },
  {
   "cell_type": "code",
   "execution_count": 358,
   "metadata": {
    "collapsed": false
   },
   "outputs": [
    {
     "name": "stdout",
     "output_type": "stream",
     "text": [
      "time: 43.9 ms\n"
     ]
    }
   ],
   "source": [
    "class Experiment:\n",
    "    \n",
    "    def __init__(self, time_horizon, batch_size = 1024):\n",
    "        self.bp = BPTT()\n",
    "        self.time_horizon = time_horizon\n",
    "        self.list_rewards = []\n",
    "        self.batch_size = batch_size\n",
    "        tf.reset_default_graph()\n",
    "            \n",
    "    def instantiate_graph(self, bp, depth_type):## ADD THE AUXILIARY REWARDS !!!!!\n",
    "        self.env = Environment(self.bp, nb_agents = 1)\n",
    "        self.env.random_env_init()\n",
    "        return ([self.env.get_reward_batch()] + self.env.get_position_batch())\n",
    "    \n",
    "    def instantiate_both_graphs(self):\n",
    "        self.graphs = self.bp.generate_graphs(self.instantiate_graph, self.time_horizon)\n",
    "        \n",
    "    def train_batch(self, sess):\n",
    "        self.list_rewards = []\n",
    "        self.list_distances = []\n",
    "        self.list_last_pos = []\n",
    "        last_pos = [v[1] for v in self.graphs[\"deep\"]][-1]\n",
    "        last_coord = tf.reduce_mean(last_pos, axis = 1)\n",
    "        mean_reward = tf.reduce_mean([v[0] for v in self.graphs[\"deep\"]])\n",
    "        self.last_distance = tf.norm(last_pos - tf.constant(np.array([[1 for i in range(self.batch_size)],\n",
    "                                                                [1 for i in range(self.batch_size)]]), tf.float32), axis = 0)\n",
    "        mean_last_distance = tf.reduce_mean(self.last_distance)\n",
    "        optimizer = tf.train.RMSPropOptimizer(0.00001)\n",
    "        step = optimizer.minimize(-mean_reward)\n",
    "        print(\"Initializing\")\n",
    "        init_op = tf.global_variables_initializer()\n",
    "        sess.run(init_op)\n",
    "        print(\"Creating dict\")\n",
    "        frame_dict = self.bp.generate_feed_dict(\"deep\", [], 0)\n",
    "        print(\"Start running\")\n",
    "        for i in range(1000):\n",
    "            _, l, m_ld, l_p = sess.run([step, mean_reward, mean_last_distance, last_coord], feed_dict = frame_dict)\n",
    "            self.list_rewards.append(l)\n",
    "            self.list_distances.append(m_ld)\n",
    "            self.list_last_pos.append(l_p)\n",
    "            if i % 10 == 0:\n",
    "                print(\"Reward after iteration \" + str(i) + \": \" + str(l))\n",
    "                print(\"Distance after iteration \" + str(i) + \": \" + str(m_ld))\n",
    "                print(\"Last position after iteration \" + str(i) + \": (\" + str(l_p[0]) + \",\" + str(l_p[1]) + \")\" )\n",
    "                  \n",
    "        return self.list_rewards, self.list_distances, self.list_last_pos\n",
    "    "
   ]
  },
  {
   "cell_type": "code",
   "execution_count": 359,
   "metadata": {
    "collapsed": false
   },
   "outputs": [
    {
     "name": "stdout",
     "output_type": "stream",
     "text": [
      "time: 1.31 ms\n"
     ]
    }
   ],
   "source": [
    "exp = Experiment(50)"
   ]
  },
  {
   "cell_type": "code",
   "execution_count": 360,
   "metadata": {
    "collapsed": false
   },
   "outputs": [
    {
     "name": "stdout",
     "output_type": "stream",
     "text": [
      "time: 55.6 s\n"
     ]
    }
   ],
   "source": [
    "exp.instantiate_both_graphs()\n",
    "train_writer = tf.summary.FileWriter('train',\n",
    "                                      tf.get_default_graph())"
   ]
  },
  {
   "cell_type": "code",
   "execution_count": 361,
   "metadata": {
    "collapsed": false
   },
   "outputs": [
    {
     "name": "stdout",
     "output_type": "stream",
     "text": [
      "Initializing\n",
      "Creating dict\n",
      "Start running\n",
      "Reward after iteration 0: -2315.15\n",
      "Distance after iteration 0: 1.41424\n",
      "Last position after iteration 0: (-0.000189281,0.000152554)\n",
      "Reward after iteration 10: -2288.38\n",
      "Distance after iteration 10: 1.39556\n",
      "Last position after iteration 10: (0.012939,0.0134421)\n",
      "Reward after iteration 20: -2265.19\n",
      "Distance after iteration 20: 1.38008\n",
      "Last position after iteration 20: (0.0237927,0.0244846)\n",
      "Reward after iteration 30: -2240.1\n",
      "Distance after iteration 30: 1.36288\n",
      "Last position after iteration 30: (0.0359312,0.0366672)\n",
      "Reward after iteration 40: -2211.18\n",
      "Distance after iteration 40: 1.34264\n",
      "Last position after iteration 40: (0.0501182,0.0511003)\n",
      "Reward after iteration 50: -2178.75\n",
      "Distance after iteration 50: 1.31853\n",
      "Last position after iteration 50: (0.0670517,0.068261)\n",
      "Reward after iteration 60: -2138.82\n",
      "Distance after iteration 60: 1.28948\n",
      "Last position after iteration 60: (0.0874367,0.0889684)\n",
      "Reward after iteration 70: -2094.27\n",
      "Distance after iteration 70: 1.25535\n",
      "Last position after iteration 70: (0.111454,0.113212)\n",
      "Reward after iteration 80: -2047.04\n",
      "Distance after iteration 80: 1.21574\n",
      "Last position after iteration 80: (0.139259,0.141429)\n",
      "Reward after iteration 90: -1996.63\n",
      "Distance after iteration 90: 1.17157\n",
      "Last position after iteration 90: (0.170431,0.172724)\n",
      "Reward after iteration 100: -1945.12\n",
      "Distance after iteration 100: 1.12337\n",
      "Last position after iteration 100: (0.204348,0.206971)\n",
      "Reward after iteration 110: -1894.25\n",
      "Distance after iteration 110: 1.07181\n",
      "Last position after iteration 110: (0.240644,0.243596)\n",
      "Reward after iteration 120: -1844.9\n",
      "Distance after iteration 120: 1.0176\n",
      "Last position after iteration 120: (0.278858,0.282037)\n",
      "Reward after iteration 130: -1797.54\n",
      "Distance after iteration 130: 0.961484\n",
      "Last position after iteration 130: (0.318434,0.321829)\n",
      "Reward after iteration 140: -1755.47\n",
      "Distance after iteration 140: 0.904616\n",
      "Last position after iteration 140: (0.358418,0.362269)\n",
      "Reward after iteration 150: -1714.61\n",
      "Distance after iteration 150: 0.848164\n",
      "Last position after iteration 150: (0.398301,0.402223)\n",
      "Reward after iteration 160: -1682.44\n",
      "Distance after iteration 160: 0.794059\n",
      "Last position after iteration 160: (0.436435,0.440606)\n",
      "Reward after iteration 170: -1652.21\n",
      "Distance after iteration 170: 0.745301\n",
      "Last position after iteration 170: (0.471079,0.474916)\n",
      "Reward after iteration 180: -1625.74\n",
      "Distance after iteration 180: 0.706076\n",
      "Last position after iteration 180: (0.49889,0.502577)\n",
      "Reward after iteration 190: -1605.89\n",
      "Distance after iteration 190: 0.678746\n",
      "Last position after iteration 190: (0.518511,0.521604)\n",
      "Reward after iteration 200: -1587.32\n",
      "Distance after iteration 200: 0.66221\n",
      "Last position after iteration 200: (0.530415,0.533085)\n",
      "Reward after iteration 210: -1571.43\n",
      "Distance after iteration 210: 0.653884\n",
      "Last position after iteration 210: (0.536604,0.538669)\n",
      "Reward after iteration 220: -1557.92\n",
      "Distance after iteration 220: 0.651686\n",
      "Last position after iteration 220: (0.53839,0.539991)\n",
      "Reward after iteration 230: -1542.58\n",
      "Distance after iteration 230: 0.653831\n",
      "Last position after iteration 230: (0.536926,0.538421)\n",
      "Reward after iteration 240: -1530.96\n",
      "Distance after iteration 240: 0.659327\n",
      "Last position after iteration 240: (0.5333,0.534275)\n",
      "Reward after iteration 250: -1519.01\n",
      "Distance after iteration 250: 0.666802\n",
      "Last position after iteration 250: (0.52802,0.528983)\n",
      "Reward after iteration 260: -1510.2\n",
      "Distance after iteration 260: 0.676335\n",
      "Last position after iteration 260: (0.521399,0.522123)\n",
      "Reward after iteration 270: -1499.15\n",
      "Distance after iteration 270: 0.686751\n",
      "Last position after iteration 270: (0.514098,0.514692)\n",
      "Reward after iteration 280: -1492.22\n",
      "Distance after iteration 280: 0.69847\n",
      "Last position after iteration 280: (0.505919,0.506299)\n",
      "Reward after iteration 290: -1481.26\n",
      "Distance after iteration 290: 0.710849\n",
      "Last position after iteration 290: (0.497208,0.497502)\n",
      "Reward after iteration 300: -1475.49\n",
      "Distance after iteration 300: 0.724505\n",
      "Last position after iteration 300: (0.487636,0.487762)\n",
      "Reward after iteration 310: -1466.54\n",
      "Distance after iteration 310: 0.738637\n",
      "Last position after iteration 310: (0.477605,0.477807)\n",
      "Reward after iteration 320: -1461.3\n",
      "Distance after iteration 320: 0.753673\n",
      "Last position after iteration 320: (0.466966,0.467183)\n",
      "Reward after iteration 330: -1455.43\n",
      "Distance after iteration 330: 0.769501\n",
      "Last position after iteration 330: (0.455713,0.456051)\n",
      "Reward after iteration 340: -1449.01\n",
      "Distance after iteration 340: 0.785868\n",
      "Last position after iteration 340: (0.444144,0.444473)\n",
      "Reward after iteration 350: -1444.21\n",
      "Distance after iteration 350: 0.801881\n",
      "Last position after iteration 350: (0.432779,0.433192)\n",
      "Reward after iteration 360: -1440.27\n",
      "Distance after iteration 360: 0.817006\n",
      "Last position after iteration 360: (0.422056,0.422525)\n",
      "Reward after iteration 370: -1435.48\n",
      "Distance after iteration 370: 0.830342\n",
      "Last position after iteration 370: (0.41266,0.413061)\n",
      "Reward after iteration 380: -1432.61\n",
      "Distance after iteration 380: 0.840489\n",
      "Last position after iteration 380: (0.405504,0.405867)\n",
      "Reward after iteration 390: -1426.99\n",
      "Distance after iteration 390: 0.846927\n",
      "Last position after iteration 390: (0.400949,0.401317)\n",
      "Reward after iteration 400: -1424.45\n",
      "Distance after iteration 400: 0.852349\n",
      "Last position after iteration 400: (0.397075,0.397524)\n",
      "Reward after iteration 410: -1420.57\n",
      "Distance after iteration 410: 0.858135\n",
      "Last position after iteration 410: (0.393093,0.393322)\n",
      "Reward after iteration 420: -1419.51\n",
      "Distance after iteration 420: 0.862804\n",
      "Last position after iteration 420: (0.389757,0.390056)\n",
      "Reward after iteration 430: -1415.37\n",
      "Distance after iteration 430: 0.868335\n",
      "Last position after iteration 430: (0.385719,0.386273)\n",
      "Reward after iteration 440: -1412.46\n",
      "Distance after iteration 440: 0.873578\n",
      "Last position after iteration 440: (0.381979,0.382598)\n",
      "Reward after iteration 450: -1411.46\n",
      "Distance after iteration 450: 0.879046\n",
      "Last position after iteration 450: (0.378115,0.378728)\n",
      "Reward after iteration 460: -1406.22\n",
      "Distance after iteration 460: 0.884499\n",
      "Last position after iteration 460: (0.374355,0.374777)\n",
      "Reward after iteration 470: -1404.98\n",
      "Distance after iteration 470: 0.890655\n",
      "Last position after iteration 470: (0.369898,0.370529)\n",
      "Reward after iteration 480: -1403.58\n",
      "Distance after iteration 480: 0.895928\n",
      "Last position after iteration 480: (0.366152,0.366817)\n",
      "Reward after iteration 490: -1401.98\n",
      "Distance after iteration 490: 0.902468\n",
      "Last position after iteration 490: (0.361592,0.362128)\n",
      "Reward after iteration 500: -1398.86\n",
      "Distance after iteration 500: 0.908104\n",
      "Last position after iteration 500: (0.357552,0.358197)\n",
      "Reward after iteration 510: -1397.08\n",
      "Distance after iteration 510: 0.914491\n",
      "Last position after iteration 510: (0.353073,0.353644)\n",
      "Reward after iteration 520: -1396.83\n",
      "Distance after iteration 520: 0.920094\n",
      "Last position after iteration 520: (0.349142,0.349651)\n",
      "Reward after iteration 530: -1393.82\n",
      "Distance after iteration 530: 0.923894\n",
      "Last position after iteration 530: (0.346384,0.347034)\n",
      "Reward after iteration 540: -1392.57\n",
      "Distance after iteration 540: 0.929422\n",
      "Last position after iteration 540: (0.342535,0.343066)\n",
      "Reward after iteration 550: -1389.98\n",
      "Distance after iteration 550: 0.933993\n",
      "Last position after iteration 550: (0.339334,0.339803)\n",
      "Reward after iteration 560: -1388.96\n",
      "Distance after iteration 560: 0.939538\n",
      "Last position after iteration 560: (0.335428,0.335867)\n",
      "Reward after iteration 570: -1387.97\n",
      "Distance after iteration 570: 0.945268\n",
      "Last position after iteration 570: (0.331266,0.331925)\n",
      "Reward after iteration 580: -1385.81\n",
      "Distance after iteration 580: 0.949104\n",
      "Last position after iteration 580: (0.328688,0.329078)\n",
      "Reward after iteration 590: -1385.92\n",
      "Distance after iteration 590: 0.955181\n",
      "Last position after iteration 590: (0.324355,0.324817)\n",
      "Reward after iteration 600: -1383.78\n",
      "Distance after iteration 600: 0.961257\n",
      "Last position after iteration 600: (0.320069,0.320511)\n",
      "Reward after iteration 610: -1382.37\n",
      "Distance after iteration 610: 0.962772\n",
      "Last position after iteration 610: (0.319029,0.319408)\n",
      "Reward after iteration 620: -1380.78\n",
      "Distance after iteration 620: 0.96886\n",
      "Last position after iteration 620: (0.314688,0.315138)\n",
      "Reward after iteration 630: -1380.53\n",
      "Distance after iteration 630: 0.972765\n",
      "Last position after iteration 630: (0.311994,0.31231)\n",
      "Reward after iteration 640: -1378.97\n",
      "Distance after iteration 640: 0.979434\n",
      "Last position after iteration 640: (0.307289,0.307584)\n",
      "Reward after iteration 650: -1377.54\n",
      "Distance after iteration 650: 0.981739\n",
      "Last position after iteration 650: (0.305556,0.306058)\n",
      "Reward after iteration 660: -1377.8\n",
      "Distance after iteration 660: 0.986712\n",
      "Last position after iteration 660: (0.302039,0.302542)\n",
      "Reward after iteration 670: -1376.5\n",
      "Distance after iteration 670: 0.995081\n",
      "Last position after iteration 670: (0.296159,0.296586)\n",
      "Reward after iteration 680: -1375.67\n",
      "Distance after iteration 680: 0.998698\n",
      "Last position after iteration 680: (0.293581,0.294049)\n",
      "Reward after iteration 690: -1372.66\n",
      "Distance after iteration 690: 1.00117\n",
      "Last position after iteration 690: (0.291896,0.292242)\n",
      "Reward after iteration 700: -1374.04\n",
      "Distance after iteration 700: 1.00694\n",
      "Last position after iteration 700: (0.287703,0.288265)\n",
      "Reward after iteration 710: -1372.62\n",
      "Distance after iteration 710: 1.01098\n",
      "Last position after iteration 710: (0.284871,0.285394)\n",
      "Reward after iteration 720: -1372.26\n",
      "Distance after iteration 720: 1.01669\n",
      "Last position after iteration 720: (0.28096,0.281232)\n",
      "Reward after iteration 730: -1370.87\n",
      "Distance after iteration 730: 1.02339\n",
      "Last position after iteration 730: (0.276202,0.276502)\n",
      "Reward after iteration 740: -1369.47\n",
      "Distance after iteration 740: 1.02932\n",
      "Last position after iteration 740: (0.271979,0.272345)\n",
      "Reward after iteration 750: -1368.47\n",
      "Distance after iteration 750: 1.03059\n",
      "Last position after iteration 750: (0.271086,0.271441)\n",
      "Reward after iteration 760: -1366.77\n",
      "Distance after iteration 760: 1.03313\n",
      "Last position after iteration 760: (0.269188,0.269742)\n",
      "Reward after iteration 770: -1368.15\n",
      "Distance after iteration 770: 1.03884\n",
      "Last position after iteration 770: (0.265232,0.265635)\n",
      "Reward after iteration 780: -1366.79\n",
      "Distance after iteration 780: 1.04191\n",
      "Last position after iteration 780: (0.262976,0.263546)\n",
      "Reward after iteration 790: -1365.78\n",
      "Distance after iteration 790: 1.04378\n",
      "Last position after iteration 790: (0.261682,0.262193)\n",
      "Reward after iteration 800: -1364.3\n",
      "Distance after iteration 800: 1.05\n",
      "Last position after iteration 800: (0.25727,0.257809)\n",
      "Reward after iteration 810: -1362.32\n",
      "Distance after iteration 810: 1.05527\n",
      "Last position after iteration 810: (0.253613,0.25401)\n"
     ]
    },
    {
     "ename": "KeyboardInterrupt",
     "evalue": "",
     "output_type": "error",
     "traceback": [
      "\u001b[0;31m---------------------------------------------------------------------------\u001b[0m",
      "\u001b[0;31mKeyboardInterrupt\u001b[0m                         Traceback (most recent call last)",
      "\u001b[0;32m<ipython-input-361-b2cf0d6c1c70>\u001b[0m in \u001b[0;36m<module>\u001b[0;34m()\u001b[0m\n\u001b[1;32m      1\u001b[0m \u001b[0;32mwith\u001b[0m \u001b[0mtf\u001b[0m\u001b[0;34m.\u001b[0m\u001b[0mSession\u001b[0m\u001b[0;34m(\u001b[0m\u001b[0;34m)\u001b[0m \u001b[0;32mas\u001b[0m \u001b[0msess\u001b[0m\u001b[0;34m:\u001b[0m\u001b[0;34m\u001b[0m\u001b[0m\n\u001b[0;32m----> 2\u001b[0;31m     \u001b[0ml_r\u001b[0m\u001b[0;34m,\u001b[0m \u001b[0ml_d\u001b[0m\u001b[0;34m,\u001b[0m \u001b[0ml_p\u001b[0m \u001b[0;34m=\u001b[0m \u001b[0mexp\u001b[0m\u001b[0;34m.\u001b[0m\u001b[0mtrain_batch\u001b[0m\u001b[0;34m(\u001b[0m\u001b[0msess\u001b[0m\u001b[0;34m)\u001b[0m\u001b[0;34m\u001b[0m\u001b[0m\n\u001b[0m",
      "\u001b[0;32m<ipython-input-358-5fa6addc2f4e>\u001b[0m in \u001b[0;36mtrain_batch\u001b[0;34m(self, sess)\u001b[0m\n\u001b[1;32m     35\u001b[0m         \u001b[0mprint\u001b[0m\u001b[0;34m(\u001b[0m\u001b[0;34m\"Start running\"\u001b[0m\u001b[0;34m)\u001b[0m\u001b[0;34m\u001b[0m\u001b[0m\n\u001b[1;32m     36\u001b[0m         \u001b[0;32mfor\u001b[0m \u001b[0mi\u001b[0m \u001b[0;32min\u001b[0m \u001b[0mrange\u001b[0m\u001b[0;34m(\u001b[0m\u001b[0;36m1000\u001b[0m\u001b[0;34m)\u001b[0m\u001b[0;34m:\u001b[0m\u001b[0;34m\u001b[0m\u001b[0m\n\u001b[0;32m---> 37\u001b[0;31m             \u001b[0m_\u001b[0m\u001b[0;34m,\u001b[0m \u001b[0ml\u001b[0m\u001b[0;34m,\u001b[0m \u001b[0mm_ld\u001b[0m\u001b[0;34m,\u001b[0m \u001b[0ml_p\u001b[0m \u001b[0;34m=\u001b[0m \u001b[0msess\u001b[0m\u001b[0;34m.\u001b[0m\u001b[0mrun\u001b[0m\u001b[0;34m(\u001b[0m\u001b[0;34m[\u001b[0m\u001b[0mstep\u001b[0m\u001b[0;34m,\u001b[0m \u001b[0mmean_reward\u001b[0m\u001b[0;34m,\u001b[0m \u001b[0mmean_last_distance\u001b[0m\u001b[0;34m,\u001b[0m \u001b[0mlast_coord\u001b[0m\u001b[0;34m]\u001b[0m\u001b[0;34m,\u001b[0m \u001b[0mfeed_dict\u001b[0m \u001b[0;34m=\u001b[0m \u001b[0mframe_dict\u001b[0m\u001b[0;34m)\u001b[0m\u001b[0;34m\u001b[0m\u001b[0m\n\u001b[0m\u001b[1;32m     38\u001b[0m             \u001b[0mself\u001b[0m\u001b[0;34m.\u001b[0m\u001b[0mlist_rewards\u001b[0m\u001b[0;34m.\u001b[0m\u001b[0mappend\u001b[0m\u001b[0;34m(\u001b[0m\u001b[0ml\u001b[0m\u001b[0;34m)\u001b[0m\u001b[0;34m\u001b[0m\u001b[0m\n\u001b[1;32m     39\u001b[0m             \u001b[0mself\u001b[0m\u001b[0;34m.\u001b[0m\u001b[0mlist_distances\u001b[0m\u001b[0;34m.\u001b[0m\u001b[0mappend\u001b[0m\u001b[0;34m(\u001b[0m\u001b[0mm_ld\u001b[0m\u001b[0;34m)\u001b[0m\u001b[0;34m\u001b[0m\u001b[0m\n",
      "\u001b[0;32m/Users/ducrocqgabriel/anaconda/lib/python3.6/site-packages/tensorflow/python/client/session.py\u001b[0m in \u001b[0;36mrun\u001b[0;34m(self, fetches, feed_dict, options, run_metadata)\u001b[0m\n\u001b[1;32m    893\u001b[0m     \u001b[0;32mtry\u001b[0m\u001b[0;34m:\u001b[0m\u001b[0;34m\u001b[0m\u001b[0m\n\u001b[1;32m    894\u001b[0m       result = self._run(None, fetches, feed_dict, options_ptr,\n\u001b[0;32m--> 895\u001b[0;31m                          run_metadata_ptr)\n\u001b[0m\u001b[1;32m    896\u001b[0m       \u001b[0;32mif\u001b[0m \u001b[0mrun_metadata\u001b[0m\u001b[0;34m:\u001b[0m\u001b[0;34m\u001b[0m\u001b[0m\n\u001b[1;32m    897\u001b[0m         \u001b[0mproto_data\u001b[0m \u001b[0;34m=\u001b[0m \u001b[0mtf_session\u001b[0m\u001b[0;34m.\u001b[0m\u001b[0mTF_GetBuffer\u001b[0m\u001b[0;34m(\u001b[0m\u001b[0mrun_metadata_ptr\u001b[0m\u001b[0;34m)\u001b[0m\u001b[0;34m\u001b[0m\u001b[0m\n",
      "\u001b[0;32m/Users/ducrocqgabriel/anaconda/lib/python3.6/site-packages/tensorflow/python/client/session.py\u001b[0m in \u001b[0;36m_run\u001b[0;34m(self, handle, fetches, feed_dict, options, run_metadata)\u001b[0m\n\u001b[1;32m   1122\u001b[0m     \u001b[0;32mif\u001b[0m \u001b[0mfinal_fetches\u001b[0m \u001b[0;32mor\u001b[0m \u001b[0mfinal_targets\u001b[0m \u001b[0;32mor\u001b[0m \u001b[0;34m(\u001b[0m\u001b[0mhandle\u001b[0m \u001b[0;32mand\u001b[0m \u001b[0mfeed_dict_tensor\u001b[0m\u001b[0;34m)\u001b[0m\u001b[0;34m:\u001b[0m\u001b[0;34m\u001b[0m\u001b[0m\n\u001b[1;32m   1123\u001b[0m       results = self._do_run(handle, final_targets, final_fetches,\n\u001b[0;32m-> 1124\u001b[0;31m                              feed_dict_tensor, options, run_metadata)\n\u001b[0m\u001b[1;32m   1125\u001b[0m     \u001b[0;32melse\u001b[0m\u001b[0;34m:\u001b[0m\u001b[0;34m\u001b[0m\u001b[0m\n\u001b[1;32m   1126\u001b[0m       \u001b[0mresults\u001b[0m \u001b[0;34m=\u001b[0m \u001b[0;34m[\u001b[0m\u001b[0;34m]\u001b[0m\u001b[0;34m\u001b[0m\u001b[0m\n",
      "\u001b[0;32m/Users/ducrocqgabriel/anaconda/lib/python3.6/site-packages/tensorflow/python/client/session.py\u001b[0m in \u001b[0;36m_do_run\u001b[0;34m(self, handle, target_list, fetch_list, feed_dict, options, run_metadata)\u001b[0m\n\u001b[1;32m   1319\u001b[0m     \u001b[0;32mif\u001b[0m \u001b[0mhandle\u001b[0m \u001b[0;32mis\u001b[0m \u001b[0;32mNone\u001b[0m\u001b[0;34m:\u001b[0m\u001b[0;34m\u001b[0m\u001b[0m\n\u001b[1;32m   1320\u001b[0m       return self._do_call(_run_fn, self._session, feeds, fetches, targets,\n\u001b[0;32m-> 1321\u001b[0;31m                            options, run_metadata)\n\u001b[0m\u001b[1;32m   1322\u001b[0m     \u001b[0;32melse\u001b[0m\u001b[0;34m:\u001b[0m\u001b[0;34m\u001b[0m\u001b[0m\n\u001b[1;32m   1323\u001b[0m       \u001b[0;32mreturn\u001b[0m \u001b[0mself\u001b[0m\u001b[0;34m.\u001b[0m\u001b[0m_do_call\u001b[0m\u001b[0;34m(\u001b[0m\u001b[0m_prun_fn\u001b[0m\u001b[0;34m,\u001b[0m \u001b[0mself\u001b[0m\u001b[0;34m.\u001b[0m\u001b[0m_session\u001b[0m\u001b[0;34m,\u001b[0m \u001b[0mhandle\u001b[0m\u001b[0;34m,\u001b[0m \u001b[0mfeeds\u001b[0m\u001b[0;34m,\u001b[0m \u001b[0mfetches\u001b[0m\u001b[0;34m)\u001b[0m\u001b[0;34m\u001b[0m\u001b[0m\n",
      "\u001b[0;32m/Users/ducrocqgabriel/anaconda/lib/python3.6/site-packages/tensorflow/python/client/session.py\u001b[0m in \u001b[0;36m_do_call\u001b[0;34m(self, fn, *args)\u001b[0m\n\u001b[1;32m   1325\u001b[0m   \u001b[0;32mdef\u001b[0m \u001b[0m_do_call\u001b[0m\u001b[0;34m(\u001b[0m\u001b[0mself\u001b[0m\u001b[0;34m,\u001b[0m \u001b[0mfn\u001b[0m\u001b[0;34m,\u001b[0m \u001b[0;34m*\u001b[0m\u001b[0margs\u001b[0m\u001b[0;34m)\u001b[0m\u001b[0;34m:\u001b[0m\u001b[0;34m\u001b[0m\u001b[0m\n\u001b[1;32m   1326\u001b[0m     \u001b[0;32mtry\u001b[0m\u001b[0;34m:\u001b[0m\u001b[0;34m\u001b[0m\u001b[0m\n\u001b[0;32m-> 1327\u001b[0;31m       \u001b[0;32mreturn\u001b[0m \u001b[0mfn\u001b[0m\u001b[0;34m(\u001b[0m\u001b[0;34m*\u001b[0m\u001b[0margs\u001b[0m\u001b[0;34m)\u001b[0m\u001b[0;34m\u001b[0m\u001b[0m\n\u001b[0m\u001b[1;32m   1328\u001b[0m     \u001b[0;32mexcept\u001b[0m \u001b[0merrors\u001b[0m\u001b[0;34m.\u001b[0m\u001b[0mOpError\u001b[0m \u001b[0;32mas\u001b[0m \u001b[0me\u001b[0m\u001b[0;34m:\u001b[0m\u001b[0;34m\u001b[0m\u001b[0m\n\u001b[1;32m   1329\u001b[0m       \u001b[0mmessage\u001b[0m \u001b[0;34m=\u001b[0m \u001b[0mcompat\u001b[0m\u001b[0;34m.\u001b[0m\u001b[0mas_text\u001b[0m\u001b[0;34m(\u001b[0m\u001b[0me\u001b[0m\u001b[0;34m.\u001b[0m\u001b[0mmessage\u001b[0m\u001b[0;34m)\u001b[0m\u001b[0;34m\u001b[0m\u001b[0m\n",
      "\u001b[0;32m/Users/ducrocqgabriel/anaconda/lib/python3.6/site-packages/tensorflow/python/client/session.py\u001b[0m in \u001b[0;36m_run_fn\u001b[0;34m(session, feed_dict, fetch_list, target_list, options, run_metadata)\u001b[0m\n\u001b[1;32m   1304\u001b[0m           return tf_session.TF_Run(session, options,\n\u001b[1;32m   1305\u001b[0m                                    \u001b[0mfeed_dict\u001b[0m\u001b[0;34m,\u001b[0m \u001b[0mfetch_list\u001b[0m\u001b[0;34m,\u001b[0m \u001b[0mtarget_list\u001b[0m\u001b[0;34m,\u001b[0m\u001b[0;34m\u001b[0m\u001b[0m\n\u001b[0;32m-> 1306\u001b[0;31m                                    status, run_metadata)\n\u001b[0m\u001b[1;32m   1307\u001b[0m \u001b[0;34m\u001b[0m\u001b[0m\n\u001b[1;32m   1308\u001b[0m     \u001b[0;32mdef\u001b[0m \u001b[0m_prun_fn\u001b[0m\u001b[0;34m(\u001b[0m\u001b[0msession\u001b[0m\u001b[0;34m,\u001b[0m \u001b[0mhandle\u001b[0m\u001b[0;34m,\u001b[0m \u001b[0mfeed_dict\u001b[0m\u001b[0;34m,\u001b[0m \u001b[0mfetch_list\u001b[0m\u001b[0;34m)\u001b[0m\u001b[0;34m:\u001b[0m\u001b[0;34m\u001b[0m\u001b[0m\n",
      "\u001b[0;31mKeyboardInterrupt\u001b[0m: "
     ]
    },
    {
     "name": "stdout",
     "output_type": "stream",
     "text": [
      "time: 32min 42s\n"
     ]
    }
   ],
   "source": [
    "with tf.Session() as sess:\n",
    "    l_r, l_d, l_p = exp.train_batch(sess)"
   ]
  },
  {
   "cell_type": "code",
   "execution_count": null,
   "metadata": {
    "collapsed": false
   },
   "outputs": [],
   "source": [
    "e = [n.name for n in tf.get_default_graph().as_graph_def().node]"
   ]
  },
  {
   "cell_type": "code",
   "execution_count": 126,
   "metadata": {
    "collapsed": false
   },
   "outputs": [
    {
     "name": "stdout",
     "output_type": "stream",
     "text": [
      "time: 1.78 ms\n"
     ]
    }
   ],
   "source": [
    "import pandas as pd\n",
    "df = pd.DataFrame({\"A\":l_r})"
   ]
  },
  {
   "cell_type": "code",
   "execution_count": 127,
   "metadata": {
    "collapsed": false
   },
   "outputs": [
    {
     "name": "stderr",
     "output_type": "stream",
     "text": [
      "/Users/ducrocqgabriel/anaconda/lib/python3.6/site-packages/ipykernel/__main__.py:1: FutureWarning: pd.rolling_mean is deprecated for DataFrame and will be removed in a future version, replace with \n",
      "\tDataFrame.rolling(window=50,center=False).mean()\n",
      "  if __name__ == '__main__':\n"
     ]
    },
    {
     "data": {
      "text/plain": [
       "<matplotlib.axes._subplots.AxesSubplot at 0x128065780>"
      ]
     },
     "execution_count": 127,
     "metadata": {},
     "output_type": "execute_result"
    },
    {
     "data": {
      "image/png": "[encoded data removed]",
      "text/plain": [
       "<matplotlib.figure.Figure at 0x120c27630>"
      ]
     },
     "metadata": {},
     "output_type": "display_data"
    },
    {
     "name": "stdout",
     "output_type": "stream",
     "text": [
      "time: 170 ms\n"
     ]
    }
   ],
   "source": [
    "pd.rolling_mean(df, 50).plot()"
   ]
  },
  {
   "cell_type": "code",
   "execution_count": 128,
   "metadata": {
    "collapsed": false
   },
   "outputs": [
    {
     "data": {
      "image/png": "[encoded data removed]",
      "text/plain": [
       "<matplotlib.figure.Figure at 0x120c27898>"
      ]
     },
     "metadata": {},
     "output_type": "display_data"
    },
    {
     "name": "stdout",
     "output_type": "stream",
     "text": [
      "time: 142 ms\n"
     ]
    }
   ],
   "source": [
    "plt.plot(l_r)\n",
    "plt.show()"
   ]
  },
  {
   "cell_type": "code",
   "execution_count": 141,
   "metadata": {
    "collapsed": false
   },
   "outputs": [
    {
     "ename": "AttributeError",
     "evalue": "'Experiment' object has no attribute 'mean_dist'",
     "output_type": "error",
     "traceback": [
      "\u001b[0;31m---------------------------------------------------------------------------\u001b[0m",
      "\u001b[0;31mAttributeError\u001b[0m                            Traceback (most recent call last)",
      "\u001b[0;32m<ipython-input-141-f98d794de1a2>\u001b[0m in \u001b[0;36m<module>\u001b[0;34m()\u001b[0m\n\u001b[0;32m----> 1\u001b[0;31m \u001b[0mexp\u001b[0m\u001b[0;34m.\u001b[0m\u001b[0mmean_dist\u001b[0m\u001b[0;34m\u001b[0m\u001b[0m\n\u001b[0m",
      "\u001b[0;31mAttributeError\u001b[0m: 'Experiment' object has no attribute 'mean_dist'"
     ]
    },
    {
     "name": "stdout",
     "output_type": "stream",
     "text": [
      "time: 6.53 ms\n"
     ]
    }
   ],
   "source": [
    "exp.mean_dist"
   ]
  },
  {
   "cell_type": "code",
   "execution_count": 180,
   "metadata": {
    "collapsed": false
   },
   "outputs": [
    {
     "data": {
      "image/png": "[encoded data removed]",
      "text/plain": [
       "<matplotlib.figure.Figure at 0x11e833b70>"
      ]
     },
     "metadata": {},
     "output_type": "display_data"
    },
    {
     "name": "stdout",
     "output_type": "stream",
     "text": [
      "time: 8.38 s\n"
     ]
    }
   ],
   "source": [
    "import numpy as np\n",
    "from matplotlib import pyplot as plt\n",
    "from matplotlib import animation\n",
    "\n",
    "# First set up the figure, the axis, and the plot element we want to animate\n",
    "fig = plt.figure()\n",
    "ax = plt.axes(xlim=(0, 2), ylim=(-2, 2))\n",
    "line, = ax.plot([], [], lw=2)\n",
    "\n",
    "# initialization function: plot the background of each frame\n",
    "def init():\n",
    "    line.set_data([], [])\n",
    "    return line,\n",
    "\n",
    "# animation function.  This is called sequentially\n",
    "def animate(i):\n",
    "    x = np.linspace(0, 2, 1000)\n",
    "    y = np.sin(2 * np.pi * (x - 0.01 * i))\n",
    "    line.set_data(x, y)\n",
    "    return line,\n",
    "\n",
    "# call the animator.  blit=True means only re-draw the parts that have changed.\n",
    "anim = animation.FuncAnimation(fig, animate, init_func=init,\n",
    "                               frames=200, interval=20, blit=True)\n",
    "\n",
    "# save the animation as an mp4.  This requires ffmpeg or mencoder to be\n",
    "# installed.  The extra_args ensure that the x264 codec is used, so that\n",
    "# the video can be embedded in html5.  You may need to adjust this for\n",
    "# your system: for more information, see\n",
    "# http://matplotlib.sourceforge.net/api/animation_api.html\n",
    "anim.save('basic_animation.mp4', fps=30, extra_args=['-vcodec', 'libx264'])\n",
    "\n",
    "plt.show()"
   ]
  },
  {
   "cell_type": "code",
   "execution_count": 208,
   "metadata": {
    "collapsed": false
   },
   "outputs": [
    {
     "data": {
      "text/plain": [
       "[[<tf.Tensor 'unrolled_model/unroll/add:0' shape=(2, 1024) dtype=float32>],\n",
       " [<tf.Tensor 'unrolled_model/unroll_1/add:0' shape=(2, 1024) dtype=float32>],\n",
       " [<tf.Tensor 'unrolled_model/unroll_2/add:0' shape=(2, 1024) dtype=float32>],\n",
       " [<tf.Tensor 'unrolled_model/unroll_3/add:0' shape=(2, 1024) dtype=float32>],\n",
       " [<tf.Tensor 'unrolled_model/unroll_4/add:0' shape=(2, 1024) dtype=float32>],\n",
       " [<tf.Tensor 'unrolled_model/unroll_5/add:0' shape=(2, 1024) dtype=float32>],\n",
       " [<tf.Tensor 'unrolled_model/unroll_6/add:0' shape=(2, 1024) dtype=float32>],\n",
       " [<tf.Tensor 'unrolled_model/unroll_7/add:0' shape=(2, 1024) dtype=float32>],\n",
       " [<tf.Tensor 'unrolled_model/unroll_8/add:0' shape=(2, 1024) dtype=float32>],\n",
       " [<tf.Tensor 'unrolled_model/unroll_9/add:0' shape=(2, 1024) dtype=float32>]]"
      ]
     },
     "execution_count": 208,
     "metadata": {},
     "output_type": "execute_result"
    },
    {
     "name": "stdout",
     "output_type": "stream",
     "text": [
      "time: 3.19 ms\n"
     ]
    }
   ],
   "source": [
    "[v[1] for v in exp.graphs[\"deep\"]]"
   ]
  },
  {
   "cell_type": "code",
   "execution_count": 350,
   "metadata": {
    "collapsed": false
   },
   "outputs": [
    {
     "name": "stderr",
     "output_type": "stream",
     "text": [
      "/Users/ducrocqgabriel/anaconda/lib/python3.6/site-packages/ipykernel/__main__.py:2: FutureWarning: pd.rolling_mean is deprecated for DataFrame and will be removed in a future version, replace with \n",
      "\tDataFrame.rolling(window=1,center=False).mean()\n",
      "  from ipykernel import kernelapp as app\n"
     ]
    },
    {
     "data": {
      "text/plain": [
       "<matplotlib.axes._subplots.AxesSubplot at 0x1e6b05400>"
      ]
     },
     "execution_count": 350,
     "metadata": {},
     "output_type": "execute_result"
    },
    {
     "data": {
      "image/png": "[encoded data removed]",
      "text/plain": [
       "<matplotlib.figure.Figure at 0x1265f6b38>"
      ]
     },
     "metadata": {},
     "output_type": "display_data"
    },
    {
     "name": "stdout",
     "output_type": "stream",
     "text": [
      "time: 215 ms\n"
     ]
    }
   ],
   "source": [
    "d_loss = pd.DataFrame({\"A\":exp.list_rewards})\n",
    "pd.rolling_mean(d_loss, 1).plot()"
   ]
  },
  {
   "cell_type": "code",
   "execution_count": 355,
   "metadata": {
    "collapsed": false
   },
   "outputs": [
    {
     "name": "stderr",
     "output_type": "stream",
     "text": [
      "/Users/ducrocqgabriel/anaconda/lib/python3.6/site-packages/ipykernel/__main__.py:2: FutureWarning: pd.rolling_mean is deprecated for DataFrame and will be removed in a future version, replace with \n",
      "\tDataFrame.rolling(window=10,center=False).mean()\n",
      "  from ipykernel import kernelapp as app\n"
     ]
    },
    {
     "data": {
      "text/plain": [
       "<matplotlib.axes._subplots.AxesSubplot at 0x2112e1358>"
      ]
     },
     "execution_count": 355,
     "metadata": {},
     "output_type": "execute_result"
    },
    {
     "data": {
      "image/png": "[encoded data removed]",
      "text/plain": [
       "<matplotlib.figure.Figure at 0x1830c5eb8>"
      ]
     },
     "metadata": {},
     "output_type": "display_data"
    },
    {
     "name": "stdout",
     "output_type": "stream",
     "text": [
      "time: 181 ms\n"
     ]
    }
   ],
   "source": [
    "d_distance = pd.DataFrame({\"A\":exp.list_distances})\n",
    "pd.rolling_mean(d_distance, 10).plot()"
   ]
  },
  {
   "cell_type": "code",
   "execution_count": 352,
   "metadata": {
    "collapsed": false
   },
   "outputs": [
    {
     "name": "stdout",
     "output_type": "stream",
     "text": [
      "time: 2.29 ms\n"
     ]
    }
   ],
   "source": [
    "x = [l[0] for l in exp.list_last_pos]\n",
    "y = [l[1] for l in exp.list_last_pos]"
   ]
  },
  {
   "cell_type": "code",
   "execution_count": 353,
   "metadata": {
    "collapsed": false
   },
   "outputs": [
    {
     "data": {
      "image/png": "[encoded data removed]",
      "text/plain": [
       "<matplotlib.figure.Figure at 0x185745668>"
      ]
     },
     "metadata": {},
     "output_type": "display_data"
    },
    {
     "name": "stdout",
     "output_type": "stream",
     "text": [
      "time: 158 ms\n"
     ]
    }
   ],
   "source": [
    "plt.plot(x)\n",
    "plt.show()"
   ]
  },
  {
   "cell_type": "code",
   "execution_count": 354,
   "metadata": {
    "collapsed": false
   },
   "outputs": [
    {
     "data": {
      "image/png": "[encoded data removed]",
      "text/plain": [
       "<matplotlib.figure.Figure at 0x1bbe7c8d0>"
      ]
     },
     "metadata": {},
     "output_type": "display_data"
    },
    {
     "name": "stdout",
     "output_type": "stream",
     "text": [
      "time: 161 ms\n"
     ]
    }
   ],
   "source": [
    "plt.plot(y)\n",
    "plt.show()"
   ]
  },
  {
   "cell_type": "code",
   "execution_count": 332,
   "metadata": {
    "collapsed": false
   },
   "outputs": [
    {
     "data": {
      "text/plain": [
       "[0.0074268249,\n",
       " 0.046203278,\n",
       " 0.076836795,\n",
       " 0.10285591,\n",
       " 0.12610336,\n",
       " 0.14909334,\n",
       " 0.1697084,\n",
       " 0.19090477,\n",
       " 0.20965898,\n",
       " 0.22957912,\n",
       " 0.25021636,\n",
       " 0.27045569,\n",
       " 0.29074085,\n",
       " 0.31046376,\n",
       " 0.33013523,\n",
       " 0.34953499,\n",
       " 0.36976838,\n",
       " 0.38857162,\n",
       " 0.40860689,\n",
       " 0.43002719,\n",
       " 0.45010582,\n",
       " 0.47069722,\n",
       " 0.49266708,\n",
       " 0.51368022,\n",
       " 0.5346294,\n",
       " 0.55523837,\n",
       " 0.577434,\n",
       " 0.59875,\n",
       " 0.62066883,\n",
       " 0.64261341,\n",
       " 0.66684598,\n",
       " 0.68802494,\n",
       " 0.71070123,\n",
       " 0.73356396,\n",
       " 0.75746489,\n",
       " 0.78094804,\n",
       " 0.80347067,\n",
       " 0.82625532,\n",
       " 0.84932858,\n",
       " 0.87291372,\n",
       " 0.89554417,\n",
       " 0.91928315,\n",
       " 0.94275427,\n",
       " 0.96819842,\n",
       " 0.98888147,\n",
       " 1.0125299,\n",
       " 1.0355864,\n",
       " 1.0589412,\n",
       " 1.0799541,\n",
       " 1.1024792,\n",
       " 1.1251936,\n",
       " 1.1465375,\n",
       " 1.1678463,\n",
       " 1.1893516,\n",
       " 1.2088959,\n",
       " 1.2277197,\n",
       " 1.2469748,\n",
       " 1.2648288,\n",
       " 1.281899,\n",
       " 1.2994802,\n",
       " 1.316021,\n",
       " 1.3312169,\n",
       " 1.3449316,\n",
       " 1.358477,\n",
       " 1.3724365,\n",
       " 1.3833414,\n",
       " 1.3950109,\n",
       " 1.4049301,\n",
       " 1.4143801,\n",
       " 1.422434,\n",
       " 1.4308658,\n",
       " 1.4381154,\n",
       " 1.4431558,\n",
       " 1.4499447,\n",
       " 1.4551899,\n",
       " 1.4583856,\n",
       " 1.4627005,\n",
       " 1.4660707,\n",
       " 1.4694049,\n",
       " 1.4705743,\n",
       " 1.4722874,\n",
       " 1.4741504,\n",
       " 1.4759493,\n",
       " 1.4748639,\n",
       " 1.4759744,\n",
       " 1.475605,\n",
       " 1.4755073,\n",
       " 1.4743178,\n",
       " 1.4721165,\n",
       " 1.4729559,\n",
       " 1.471697,\n",
       " 1.4703714,\n",
       " 1.4673668,\n",
       " 1.466305,\n",
       " 1.4633464,\n",
       " 1.4597399,\n",
       " 1.4587992,\n",
       " 1.4572387,\n",
       " 1.4545324,\n",
       " 1.4509327,\n",
       " 1.447722,\n",
       " 1.4459063,\n",
       " 1.4424685,\n",
       " 1.4385388,\n",
       " 1.4337773,\n",
       " 1.4313285,\n",
       " 1.4287491,\n",
       " 1.4248037,\n",
       " 1.4202645,\n",
       " 1.4176763,\n",
       " 1.4115721,\n",
       " 1.4089898,\n",
       " 1.4038494,\n",
       " 1.4005386,\n",
       " 1.3939569,\n",
       " 1.3921672,\n",
       " 1.3863614,\n",
       " 1.3816888,\n",
       " 1.3788981,\n",
       " 1.3717029,\n",
       " 1.3664329,\n",
       " 1.3627338,\n",
       " 1.3570157,\n",
       " 1.3515681,\n",
       " 1.3482703,\n",
       " 1.3412358,\n",
       " 1.3351693,\n",
       " 1.3305756,\n",
       " 1.3264724,\n",
       " 1.3190148,\n",
       " 1.3138117,\n",
       " 1.3083405,\n",
       " 1.3005514,\n",
       " 1.2962482,\n",
       " 1.2895777,\n",
       " 1.2840258,\n",
       " 1.2777275,\n",
       " 1.2709247,\n",
       " 1.2652985,\n",
       " 1.2587533,\n",
       " 1.2534621,\n",
       " 1.243858,\n",
       " 1.2391881,\n",
       " 1.2335638,\n",
       " 1.22578,\n",
       " 1.2194586,\n",
       " 1.2121843,\n",
       " 1.2062156,\n",
       " 1.1977046,\n",
       " 1.1915323,\n",
       " 1.1853251,\n",
       " 1.1780301,\n",
       " 1.1714842,\n",
       " 1.1623898,\n",
       " 1.1541426,\n",
       " 1.1508553,\n",
       " 1.1404901,\n",
       " 1.1333203,\n",
       " 1.1272528,\n",
       " 1.1193296,\n",
       " 1.1125354,\n",
       " 1.1057216,\n",
       " 1.0961871,\n",
       " 1.0895367,\n",
       " 1.0827838,\n",
       " 1.0751945,\n",
       " 1.0671661,\n",
       " 1.0596846,\n",
       " 1.0511384,\n",
       " 1.0437245,\n",
       " 1.0377935,\n",
       " 1.030349,\n",
       " 1.0199043,\n",
       " 1.0142063,\n",
       " 1.0076168,\n",
       " 1.0000192,\n",
       " 0.99243969,\n",
       " 0.9855957,\n",
       " 0.9753828,\n",
       " 0.97392893,\n",
       " 0.96336234,\n",
       " 0.95762789,\n",
       " 0.95032322,\n",
       " 0.94230944,\n",
       " 0.93875206,\n",
       " 0.93097937,\n",
       " 0.92514908,\n",
       " 0.91850984,\n",
       " 0.91383338,\n",
       " 0.90860623,\n",
       " 0.90174562,\n",
       " 0.89875972,\n",
       " 0.89490116,\n",
       " 0.88572335,\n",
       " 0.88921565,\n",
       " 0.87917292,\n",
       " 0.8768453,\n",
       " 0.87499964,\n",
       " 0.87212229,\n",
       " 0.864124,\n",
       " 0.86725569,\n",
       " 0.86205709,\n",
       " 0.86075801,\n",
       " 0.85697943,\n",
       " 0.85654557,\n",
       " 0.85354388,\n",
       " 0.85335791,\n",
       " 0.84954607,\n",
       " 0.85190284,\n",
       " 0.84405959,\n",
       " 0.85269457,\n",
       " 0.84214538,\n",
       " 0.85155797,\n",
       " 0.8388297,\n",
       " 0.85101271,\n",
       " 0.83652699,\n",
       " 0.85180736,\n",
       " 0.83661044,\n",
       " 0.85258073,\n",
       " 0.83372808,\n",
       " 0.85494685,\n",
       " 0.83318311,\n",
       " 0.85125947,\n",
       " 0.83796084,\n",
       " 0.85109961,\n",
       " 0.83706105,\n",
       " 0.85571074,\n",
       " 0.83549714,\n",
       " 0.85688305,\n",
       " 0.83422804,\n",
       " 0.85995936,\n",
       " 0.83679307,\n",
       " 0.86390978,\n",
       " 0.83137327,\n",
       " 0.86913383,\n",
       " 0.8332305,\n",
       " 0.87242997,\n",
       " 0.83215135,\n",
       " 0.87471139,\n",
       " 0.83642673,\n",
       " 0.86988211,\n",
       " 0.8462128,\n",
       " 0.86815661,\n",
       " 0.85113239,\n",
       " 0.8632862,\n",
       " 0.86042237,\n",
       " 0.86175203,\n",
       " 0.86496758,\n",
       " 0.86110187,\n",
       " 0.87100244,\n",
       " 0.86000359,\n",
       " 0.87826335,\n",
       " 0.85422933,\n",
       " 0.89077342,\n",
       " 0.84804833,\n",
       " 0.90229058,\n",
       " 0.84369844,\n",
       " 0.90715754,\n",
       " 0.84795469,\n",
       " 0.90400171,\n",
       " 0.85631526,\n",
       " 0.90446997,\n",
       " 0.86285681,\n",
       " 0.90317917,\n",
       " 0.86464262,\n",
       " 0.90749133,\n",
       " 0.86749017,\n",
       " 0.91044497,\n",
       " 0.86964786,\n",
       " 0.91397643,\n",
       " 0.8715781,\n",
       " 0.9210583,\n",
       " 0.87046087,\n",
       " 0.91968948,\n",
       " 0.88385338,\n",
       " 0.91696823,\n",
       " 0.88300818,\n",
       " 0.92604291,\n",
       " 0.88434899,\n",
       " 0.93281859,\n",
       " 0.87954921,\n",
       " 0.94050896,\n",
       " 0.88462174,\n",
       " 0.94143283,\n",
       " 0.88609874,\n",
       " 0.94491267,\n",
       " 0.89690602,\n",
       " 0.94014049,\n",
       " 0.90185046,\n",
       " 0.94691569,\n",
       " 0.90230191,\n",
       " 0.94971597,\n",
       " 0.90300143,\n",
       " 0.959373,\n",
       " 0.90112638,\n",
       " 0.96592283,\n",
       " 0.90334123,\n",
       " 0.96755725,\n",
       " 0.91284686,\n",
       " 0.96512234,\n",
       " 0.91916084,\n",
       " 0.96878278,\n",
       " 0.91861117,\n",
       " 0.97466868,\n",
       " 0.92257893,\n",
       " 0.9811101,\n",
       " 0.92496502,\n",
       " 0.983971,\n",
       " 0.92991668,\n",
       " 0.98161399,\n",
       " 0.93799967,\n",
       " 0.98331738,\n",
       " 0.94365865,\n",
       " 0.98656386,\n",
       " 0.94493973,\n",
       " 0.99363601,\n",
       " 0.94240212,\n",
       " 1.0072488,\n",
       " 0.93892074,\n",
       " 1.01625,\n",
       " 0.93768132,\n",
       " 1.0170951,\n",
       " 0.95184731,\n",
       " 1.008889,\n",
       " 0.96169007,\n",
       " 1.0081425,\n",
       " 0.97108603,\n",
       " 1.0035064,\n",
       " 0.97906315,\n",
       " 1.009479,\n",
       " 0.97405237,\n",
       " 1.022209,\n",
       " 0.96950066,\n",
       " 1.0340503,\n",
       " 0.96180391,\n",
       " 1.0441327,\n",
       " 0.96671629,\n",
       " 1.0391537,\n",
       " 0.97870237,\n",
       " 1.0361918,\n",
       " 0.98497778,\n",
       " 1.0357475,\n",
       " 0.98323977,\n",
       " 1.0483122,\n",
       " 0.98315805,\n",
       " 1.0480819,\n",
       " 0.9883194,\n",
       " 1.0474246,\n",
       " 0.98857504,\n",
       " 1.0534307,\n",
       " 0.98674011,\n",
       " 1.0551751,\n",
       " 0.99586773,\n",
       " 1.0532076,\n",
       " 0.99931842,\n",
       " 1.0523459,\n",
       " 0.999394,\n",
       " 1.0602913,\n",
       " 0.99498558,\n",
       " 1.0699196,\n",
       " 0.99017072,\n",
       " 1.0645055,\n",
       " 1.0038055,\n",
       " 1.0632925,\n",
       " 1.0046562,\n",
       " 1.0589052,\n",
       " 1.0089459,\n",
       " 1.0635962,\n",
       " 1.0031645,\n",
       " 1.0696616,\n",
       " 1.0040865,\n",
       " 1.0669792,\n",
       " 1.0091922,\n",
       " 1.0715873,\n",
       " 1.0002517,\n",
       " 1.0745163,\n",
       " 1.0054597,\n",
       " 1.0751036,\n",
       " 1.006428,\n",
       " 1.0731399,\n",
       " 1.0075798,\n",
       " 1.0715842,\n",
       " 1.0086403,\n",
       " 1.0751978,\n",
       " 1.0059862,\n",
       " 1.0779126,\n",
       " 1.0040336,\n",
       " 1.0765316,\n",
       " 1.0110432,\n",
       " 1.0709915,\n",
       " 1.01472,\n",
       " 1.0672414,\n",
       " 1.0220122,\n",
       " 1.0659089,\n",
       " 1.0159374,\n",
       " 1.0775812,\n",
       " 1.0049124,\n",
       " 1.0833081,\n",
       " 1.003257,\n",
       " 1.0829062,\n",
       " 1.0053699,\n",
       " 1.0826077,\n",
       " 1.0095136,\n",
       " 1.0746666,\n",
       " 1.0130883,\n",
       " 1.0734487,\n",
       " 1.016037,\n",
       " 1.0726185,\n",
       " 1.0137193,\n",
       " 1.0758107,\n",
       " 1.00962,\n",
       " 1.0788325,\n",
       " 1.0103499,\n",
       " 1.0793059,\n",
       " 1.0079181,\n",
       " 1.0789498,\n",
       " 1.0092704,\n",
       " 1.0785763,\n",
       " 1.0103788,\n",
       " 1.0774591,\n",
       " 1.0107764,\n",
       " 1.0752163,\n",
       " 1.0123563,\n",
       " 1.0747209,\n",
       " 1.008775,\n",
       " 1.0812984,\n",
       " 1.0028557,\n",
       " 1.0862358,\n",
       " 1.0020205,\n",
       " 1.0786351,\n",
       " 1.0098217,\n",
       " 1.0729024,\n",
       " 1.0186827,\n",
       " 1.0681028,\n",
       " 1.0112972,\n",
       " 1.0748404,\n",
       " 1.0151643,\n",
       " 1.0649781,\n",
       " 1.0148757,\n",
       " 1.0791836,\n",
       " 0.99338067,\n",
       " 1.0942602,\n",
       " 0.99460685,\n",
       " 1.0816836,\n",
       " 1.0065689,\n",
       " 1.0693357,\n",
       " 1.0167359,\n",
       " 1.0621743,\n",
       " 1.0216479,\n",
       " 1.0584083,\n",
       " 1.0197451,\n",
       " 1.063428,\n",
       " 1.0152366,\n",
       " 1.0692708,\n",
       " 1.0043733,\n",
       " 1.0825086,\n",
       " 0.99071234,\n",
       " 1.0888472,\n",
       " 0.99214756,\n",
       " 1.0737036,\n",
       " 1.0135567,\n",
       " 1.0618182,\n",
       " 1.0158138,\n",
       " 1.0567605,\n",
       " 1.0205946,\n",
       " 1.0540166,\n",
       " 1.0192804,\n",
       " 1.0599087,\n",
       " 1.0037508,\n",
       " 1.0805297,\n",
       " 0.98756278,\n",
       " 1.0847031,\n",
       " 0.99030167,\n",
       " 1.0771245,\n",
       " 0.99781674,\n",
       " 1.0735581,\n",
       " 0.99963772,\n",
       " 1.0679009,\n",
       " 1.0052693,\n",
       " 1.062018,\n",
       " 1.0075017,\n",
       " 1.0573485,\n",
       " 1.0093515,\n",
       " 1.0626222,\n",
       " 1.0009522,\n",
       " 1.0675764,\n",
       " 0.99292421,\n",
       " 1.0804157,\n",
       " 0.98381621,\n",
       " 1.0727277,\n",
       " 0.99804115,\n",
       " 1.0599302,\n",
       " 1.0076642,\n",
       " 1.0563293,\n",
       " 1.0031879,\n",
       " 1.0667962,\n",
       " 0.98435086,\n",
       " 1.0754025,\n",
       " 0.988222,\n",
       " 1.0696453,\n",
       " 0.99239492,\n",
       " 1.0552058,\n",
       " 1.0091238,\n",
       " 1.0525134,\n",
       " 1.0007122,\n",
       " 1.060437,\n",
       " 0.98994374,\n",
       " 1.0641701,\n",
       " 0.99170017,\n",
       " 1.0654848,\n",
       " 0.98659027,\n",
       " 1.0628371,\n",
       " 0.98913628,\n",
       " 1.0645534,\n",
       " 0.98556256,\n",
       " 1.0642647,\n",
       " 0.99121112,\n",
       " 1.0544593,\n",
       " 0.99792719,\n",
       " 1.0513983,\n",
       " 0.9939118,\n",
       " 1.0559583]"
      ]
     },
     "execution_count": 332,
     "metadata": {},
     "output_type": "execute_result"
    },
    {
     "name": "stdout",
     "output_type": "stream",
     "text": [
      "time: 13.3 ms\n"
     ]
    }
   ],
   "source": [
    "y"
   ]
  },
  {
   "cell_type": "code",
   "execution_count": null,
   "metadata": {
    "collapsed": true
   },
   "outputs": [],
   "source": []
  }
 ],
 "metadata": {
  "kernelspec": {
   "display_name": "Python 3",
   "language": "python",
   "name": "python3"
  },
  "language_info": {
   "codemirror_mode": {
    "name": "ipython",
    "version": 3
   },
   "file_extension": ".py",
   "mimetype": "text/x-python",
   "name": "python",
   "nbconvert_exporter": "python",
   "pygments_lexer": "ipython3",
   "version": "3.6.0"
  }
 },
 "nbformat": 4,
 "nbformat_minor": 2
}
